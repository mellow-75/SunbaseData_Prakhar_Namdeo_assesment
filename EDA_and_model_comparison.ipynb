{
 "cells": [
  {
   "cell_type": "code",
   "execution_count": 1,
   "id": "3b896705",
   "metadata": {},
   "outputs": [],
   "source": [
    "import pandas as pd\n",
    "import numpy as np\n",
    "import seaborn as sns\n",
    "import  matplotlib.ticker as mtick\n",
    "import matplotlib.pyplot as plt\n",
    "%matplotlib inline"
   ]
  },
  {
   "cell_type": "code",
   "execution_count": 2,
   "id": "d34cbb7a",
   "metadata": {},
   "outputs": [],
   "source": [
    "df=pd.read_excel(\"C:\\\\Users\\\\Prakhar\\\\Desktop\\\\customer_churn_large_dataset.xlsx\")"
   ]
  },
  {
   "cell_type": "code",
   "execution_count": 3,
   "id": "452eb0da",
   "metadata": {},
   "outputs": [
    {
     "data": {
      "text/html": [
       "<div>\n",
       "<style scoped>\n",
       "    .dataframe tbody tr th:only-of-type {\n",
       "        vertical-align: middle;\n",
       "    }\n",
       "\n",
       "    .dataframe tbody tr th {\n",
       "        vertical-align: top;\n",
       "    }\n",
       "\n",
       "    .dataframe thead th {\n",
       "        text-align: right;\n",
       "    }\n",
       "</style>\n",
       "<table border=\"1\" class=\"dataframe\">\n",
       "  <thead>\n",
       "    <tr style=\"text-align: right;\">\n",
       "      <th></th>\n",
       "      <th>CustomerID</th>\n",
       "      <th>Name</th>\n",
       "      <th>Age</th>\n",
       "      <th>Gender</th>\n",
       "      <th>Location</th>\n",
       "      <th>Subscription_Length_Months</th>\n",
       "      <th>Monthly_Bill</th>\n",
       "      <th>Total_Usage_GB</th>\n",
       "      <th>Churn</th>\n",
       "    </tr>\n",
       "  </thead>\n",
       "  <tbody>\n",
       "    <tr>\n",
       "      <th>0</th>\n",
       "      <td>1</td>\n",
       "      <td>Customer_1</td>\n",
       "      <td>63</td>\n",
       "      <td>Male</td>\n",
       "      <td>Los Angeles</td>\n",
       "      <td>17</td>\n",
       "      <td>73.36</td>\n",
       "      <td>236</td>\n",
       "      <td>0</td>\n",
       "    </tr>\n",
       "    <tr>\n",
       "      <th>1</th>\n",
       "      <td>2</td>\n",
       "      <td>Customer_2</td>\n",
       "      <td>62</td>\n",
       "      <td>Female</td>\n",
       "      <td>New York</td>\n",
       "      <td>1</td>\n",
       "      <td>48.76</td>\n",
       "      <td>172</td>\n",
       "      <td>0</td>\n",
       "    </tr>\n",
       "    <tr>\n",
       "      <th>2</th>\n",
       "      <td>3</td>\n",
       "      <td>Customer_3</td>\n",
       "      <td>24</td>\n",
       "      <td>Female</td>\n",
       "      <td>Los Angeles</td>\n",
       "      <td>5</td>\n",
       "      <td>85.47</td>\n",
       "      <td>460</td>\n",
       "      <td>0</td>\n",
       "    </tr>\n",
       "    <tr>\n",
       "      <th>3</th>\n",
       "      <td>4</td>\n",
       "      <td>Customer_4</td>\n",
       "      <td>36</td>\n",
       "      <td>Female</td>\n",
       "      <td>Miami</td>\n",
       "      <td>3</td>\n",
       "      <td>97.94</td>\n",
       "      <td>297</td>\n",
       "      <td>1</td>\n",
       "    </tr>\n",
       "    <tr>\n",
       "      <th>4</th>\n",
       "      <td>5</td>\n",
       "      <td>Customer_5</td>\n",
       "      <td>46</td>\n",
       "      <td>Female</td>\n",
       "      <td>Miami</td>\n",
       "      <td>19</td>\n",
       "      <td>58.14</td>\n",
       "      <td>266</td>\n",
       "      <td>0</td>\n",
       "    </tr>\n",
       "    <tr>\n",
       "      <th>5</th>\n",
       "      <td>6</td>\n",
       "      <td>Customer_6</td>\n",
       "      <td>67</td>\n",
       "      <td>Male</td>\n",
       "      <td>New York</td>\n",
       "      <td>15</td>\n",
       "      <td>82.65</td>\n",
       "      <td>456</td>\n",
       "      <td>1</td>\n",
       "    </tr>\n",
       "    <tr>\n",
       "      <th>6</th>\n",
       "      <td>7</td>\n",
       "      <td>Customer_7</td>\n",
       "      <td>30</td>\n",
       "      <td>Female</td>\n",
       "      <td>Chicago</td>\n",
       "      <td>3</td>\n",
       "      <td>73.79</td>\n",
       "      <td>269</td>\n",
       "      <td>0</td>\n",
       "    </tr>\n",
       "    <tr>\n",
       "      <th>7</th>\n",
       "      <td>8</td>\n",
       "      <td>Customer_8</td>\n",
       "      <td>67</td>\n",
       "      <td>Female</td>\n",
       "      <td>Miami</td>\n",
       "      <td>1</td>\n",
       "      <td>97.70</td>\n",
       "      <td>396</td>\n",
       "      <td>1</td>\n",
       "    </tr>\n",
       "    <tr>\n",
       "      <th>8</th>\n",
       "      <td>9</td>\n",
       "      <td>Customer_9</td>\n",
       "      <td>20</td>\n",
       "      <td>Female</td>\n",
       "      <td>Miami</td>\n",
       "      <td>10</td>\n",
       "      <td>42.45</td>\n",
       "      <td>150</td>\n",
       "      <td>1</td>\n",
       "    </tr>\n",
       "    <tr>\n",
       "      <th>9</th>\n",
       "      <td>10</td>\n",
       "      <td>Customer_10</td>\n",
       "      <td>53</td>\n",
       "      <td>Female</td>\n",
       "      <td>Los Angeles</td>\n",
       "      <td>12</td>\n",
       "      <td>64.49</td>\n",
       "      <td>383</td>\n",
       "      <td>1</td>\n",
       "    </tr>\n",
       "  </tbody>\n",
       "</table>\n",
       "</div>"
      ],
      "text/plain": [
       "   CustomerID         Name  Age  Gender     Location  \\\n",
       "0           1   Customer_1   63    Male  Los Angeles   \n",
       "1           2   Customer_2   62  Female     New York   \n",
       "2           3   Customer_3   24  Female  Los Angeles   \n",
       "3           4   Customer_4   36  Female        Miami   \n",
       "4           5   Customer_5   46  Female        Miami   \n",
       "5           6   Customer_6   67    Male     New York   \n",
       "6           7   Customer_7   30  Female      Chicago   \n",
       "7           8   Customer_8   67  Female        Miami   \n",
       "8           9   Customer_9   20  Female        Miami   \n",
       "9          10  Customer_10   53  Female  Los Angeles   \n",
       "\n",
       "   Subscription_Length_Months  Monthly_Bill  Total_Usage_GB  Churn  \n",
       "0                          17         73.36             236      0  \n",
       "1                           1         48.76             172      0  \n",
       "2                           5         85.47             460      0  \n",
       "3                           3         97.94             297      1  \n",
       "4                          19         58.14             266      0  \n",
       "5                          15         82.65             456      1  \n",
       "6                           3         73.79             269      0  \n",
       "7                           1         97.70             396      1  \n",
       "8                          10         42.45             150      1  \n",
       "9                          12         64.49             383      1  "
      ]
     },
     "execution_count": 3,
     "metadata": {},
     "output_type": "execute_result"
    }
   ],
   "source": [
    "df.head(10)"
   ]
  },
  {
   "cell_type": "code",
   "execution_count": 4,
   "id": "dbcc3361",
   "metadata": {},
   "outputs": [
    {
     "data": {
      "text/plain": [
       "(100000, 9)"
      ]
     },
     "execution_count": 4,
     "metadata": {},
     "output_type": "execute_result"
    }
   ],
   "source": [
    "df.shape"
   ]
  },
  {
   "cell_type": "code",
   "execution_count": 5,
   "id": "5f3f4d20",
   "metadata": {},
   "outputs": [
    {
     "data": {
      "text/html": [
       "<div>\n",
       "<style scoped>\n",
       "    .dataframe tbody tr th:only-of-type {\n",
       "        vertical-align: middle;\n",
       "    }\n",
       "\n",
       "    .dataframe tbody tr th {\n",
       "        vertical-align: top;\n",
       "    }\n",
       "\n",
       "    .dataframe thead th {\n",
       "        text-align: right;\n",
       "    }\n",
       "</style>\n",
       "<table border=\"1\" class=\"dataframe\">\n",
       "  <thead>\n",
       "    <tr style=\"text-align: right;\">\n",
       "      <th></th>\n",
       "      <th>CustomerID</th>\n",
       "      <th>Age</th>\n",
       "      <th>Subscription_Length_Months</th>\n",
       "      <th>Monthly_Bill</th>\n",
       "      <th>Total_Usage_GB</th>\n",
       "      <th>Churn</th>\n",
       "    </tr>\n",
       "  </thead>\n",
       "  <tbody>\n",
       "    <tr>\n",
       "      <th>count</th>\n",
       "      <td>100000.000000</td>\n",
       "      <td>100000.000000</td>\n",
       "      <td>100000.000000</td>\n",
       "      <td>100000.000000</td>\n",
       "      <td>100000.000000</td>\n",
       "      <td>100000.000000</td>\n",
       "    </tr>\n",
       "    <tr>\n",
       "      <th>mean</th>\n",
       "      <td>50000.500000</td>\n",
       "      <td>44.027020</td>\n",
       "      <td>12.490100</td>\n",
       "      <td>65.053197</td>\n",
       "      <td>274.393650</td>\n",
       "      <td>0.497790</td>\n",
       "    </tr>\n",
       "    <tr>\n",
       "      <th>std</th>\n",
       "      <td>28867.657797</td>\n",
       "      <td>15.280283</td>\n",
       "      <td>6.926461</td>\n",
       "      <td>20.230696</td>\n",
       "      <td>130.463063</td>\n",
       "      <td>0.499998</td>\n",
       "    </tr>\n",
       "    <tr>\n",
       "      <th>min</th>\n",
       "      <td>1.000000</td>\n",
       "      <td>18.000000</td>\n",
       "      <td>1.000000</td>\n",
       "      <td>30.000000</td>\n",
       "      <td>50.000000</td>\n",
       "      <td>0.000000</td>\n",
       "    </tr>\n",
       "    <tr>\n",
       "      <th>25%</th>\n",
       "      <td>25000.750000</td>\n",
       "      <td>31.000000</td>\n",
       "      <td>6.000000</td>\n",
       "      <td>47.540000</td>\n",
       "      <td>161.000000</td>\n",
       "      <td>0.000000</td>\n",
       "    </tr>\n",
       "    <tr>\n",
       "      <th>50%</th>\n",
       "      <td>50000.500000</td>\n",
       "      <td>44.000000</td>\n",
       "      <td>12.000000</td>\n",
       "      <td>65.010000</td>\n",
       "      <td>274.000000</td>\n",
       "      <td>0.000000</td>\n",
       "    </tr>\n",
       "    <tr>\n",
       "      <th>75%</th>\n",
       "      <td>75000.250000</td>\n",
       "      <td>57.000000</td>\n",
       "      <td>19.000000</td>\n",
       "      <td>82.640000</td>\n",
       "      <td>387.000000</td>\n",
       "      <td>1.000000</td>\n",
       "    </tr>\n",
       "    <tr>\n",
       "      <th>max</th>\n",
       "      <td>100000.000000</td>\n",
       "      <td>70.000000</td>\n",
       "      <td>24.000000</td>\n",
       "      <td>100.000000</td>\n",
       "      <td>500.000000</td>\n",
       "      <td>1.000000</td>\n",
       "    </tr>\n",
       "  </tbody>\n",
       "</table>\n",
       "</div>"
      ],
      "text/plain": [
       "          CustomerID            Age  Subscription_Length_Months  \\\n",
       "count  100000.000000  100000.000000               100000.000000   \n",
       "mean    50000.500000      44.027020                   12.490100   \n",
       "std     28867.657797      15.280283                    6.926461   \n",
       "min         1.000000      18.000000                    1.000000   \n",
       "25%     25000.750000      31.000000                    6.000000   \n",
       "50%     50000.500000      44.000000                   12.000000   \n",
       "75%     75000.250000      57.000000                   19.000000   \n",
       "max    100000.000000      70.000000                   24.000000   \n",
       "\n",
       "        Monthly_Bill  Total_Usage_GB          Churn  \n",
       "count  100000.000000   100000.000000  100000.000000  \n",
       "mean       65.053197      274.393650       0.497790  \n",
       "std        20.230696      130.463063       0.499998  \n",
       "min        30.000000       50.000000       0.000000  \n",
       "25%        47.540000      161.000000       0.000000  \n",
       "50%        65.010000      274.000000       0.000000  \n",
       "75%        82.640000      387.000000       1.000000  \n",
       "max       100.000000      500.000000       1.000000  "
      ]
     },
     "execution_count": 5,
     "metadata": {},
     "output_type": "execute_result"
    }
   ],
   "source": [
    "df.describe()"
   ]
  },
  {
   "cell_type": "code",
   "execution_count": 6,
   "id": "2945f99c",
   "metadata": {},
   "outputs": [
    {
     "name": "stdout",
     "output_type": "stream",
     "text": [
      "<class 'pandas.core.frame.DataFrame'>\n",
      "RangeIndex: 100000 entries, 0 to 99999\n",
      "Data columns (total 9 columns):\n",
      " #   Column                      Non-Null Count   Dtype  \n",
      "---  ------                      --------------   -----  \n",
      " 0   CustomerID                  100000 non-null  int64  \n",
      " 1   Name                        100000 non-null  object \n",
      " 2   Age                         100000 non-null  int64  \n",
      " 3   Gender                      100000 non-null  object \n",
      " 4   Location                    100000 non-null  object \n",
      " 5   Subscription_Length_Months  100000 non-null  int64  \n",
      " 6   Monthly_Bill                100000 non-null  float64\n",
      " 7   Total_Usage_GB              100000 non-null  int64  \n",
      " 8   Churn                       100000 non-null  int64  \n",
      "dtypes: float64(1), int64(5), object(3)\n",
      "memory usage: 6.9+ MB\n"
     ]
    }
   ],
   "source": [
    "df.info()"
   ]
  },
  {
   "cell_type": "code",
   "execution_count": 7,
   "id": "546cf104",
   "metadata": {},
   "outputs": [
    {
     "data": {
      "text/plain": [
       "Houston        20157\n",
       "Los Angeles    20041\n",
       "Miami          20031\n",
       "Chicago        19958\n",
       "New York       19813\n",
       "Name: Location, dtype: int64"
      ]
     },
     "execution_count": 7,
     "metadata": {},
     "output_type": "execute_result"
    }
   ],
   "source": [
    "df[\"Location\"].value_counts()"
   ]
  },
  {
   "cell_type": "code",
   "execution_count": 8,
   "id": "7cc21579",
   "metadata": {},
   "outputs": [
    {
     "data": {
      "text/html": [
       "<div>\n",
       "<style scoped>\n",
       "    .dataframe tbody tr th:only-of-type {\n",
       "        vertical-align: middle;\n",
       "    }\n",
       "\n",
       "    .dataframe tbody tr th {\n",
       "        vertical-align: top;\n",
       "    }\n",
       "\n",
       "    .dataframe thead th {\n",
       "        text-align: right;\n",
       "    }\n",
       "</style>\n",
       "<table border=\"1\" class=\"dataframe\">\n",
       "  <thead>\n",
       "    <tr style=\"text-align: right;\">\n",
       "      <th></th>\n",
       "      <th>CustomerID</th>\n",
       "      <th>Name</th>\n",
       "      <th>Age</th>\n",
       "      <th>Gender</th>\n",
       "      <th>Location</th>\n",
       "      <th>Subscription_Length_Months</th>\n",
       "      <th>Monthly_Bill</th>\n",
       "      <th>Total_Usage_GB</th>\n",
       "      <th>Churn</th>\n",
       "    </tr>\n",
       "  </thead>\n",
       "  <tbody>\n",
       "    <tr>\n",
       "      <th>0</th>\n",
       "      <td>1</td>\n",
       "      <td>Customer_1</td>\n",
       "      <td>63</td>\n",
       "      <td>Male</td>\n",
       "      <td>Los Angeles</td>\n",
       "      <td>17</td>\n",
       "      <td>73.36</td>\n",
       "      <td>236</td>\n",
       "      <td>0</td>\n",
       "    </tr>\n",
       "    <tr>\n",
       "      <th>1</th>\n",
       "      <td>2</td>\n",
       "      <td>Customer_2</td>\n",
       "      <td>62</td>\n",
       "      <td>Female</td>\n",
       "      <td>New York</td>\n",
       "      <td>1</td>\n",
       "      <td>48.76</td>\n",
       "      <td>172</td>\n",
       "      <td>0</td>\n",
       "    </tr>\n",
       "    <tr>\n",
       "      <th>2</th>\n",
       "      <td>3</td>\n",
       "      <td>Customer_3</td>\n",
       "      <td>24</td>\n",
       "      <td>Female</td>\n",
       "      <td>Los Angeles</td>\n",
       "      <td>5</td>\n",
       "      <td>85.47</td>\n",
       "      <td>460</td>\n",
       "      <td>0</td>\n",
       "    </tr>\n",
       "    <tr>\n",
       "      <th>3</th>\n",
       "      <td>4</td>\n",
       "      <td>Customer_4</td>\n",
       "      <td>36</td>\n",
       "      <td>Female</td>\n",
       "      <td>Miami</td>\n",
       "      <td>3</td>\n",
       "      <td>97.94</td>\n",
       "      <td>297</td>\n",
       "      <td>1</td>\n",
       "    </tr>\n",
       "    <tr>\n",
       "      <th>4</th>\n",
       "      <td>5</td>\n",
       "      <td>Customer_5</td>\n",
       "      <td>46</td>\n",
       "      <td>Female</td>\n",
       "      <td>Miami</td>\n",
       "      <td>19</td>\n",
       "      <td>58.14</td>\n",
       "      <td>266</td>\n",
       "      <td>0</td>\n",
       "    </tr>\n",
       "  </tbody>\n",
       "</table>\n",
       "</div>"
      ],
      "text/plain": [
       "   CustomerID        Name  Age  Gender     Location  \\\n",
       "0           1  Customer_1   63    Male  Los Angeles   \n",
       "1           2  Customer_2   62  Female     New York   \n",
       "2           3  Customer_3   24  Female  Los Angeles   \n",
       "3           4  Customer_4   36  Female        Miami   \n",
       "4           5  Customer_5   46  Female        Miami   \n",
       "\n",
       "   Subscription_Length_Months  Monthly_Bill  Total_Usage_GB  Churn  \n",
       "0                          17         73.36             236      0  \n",
       "1                           1         48.76             172      0  \n",
       "2                           5         85.47             460      0  \n",
       "3                           3         97.94             297      1  \n",
       "4                          19         58.14             266      0  "
      ]
     },
     "execution_count": 8,
     "metadata": {},
     "output_type": "execute_result"
    }
   ],
   "source": [
    "df.head()"
   ]
  },
  {
   "cell_type": "code",
   "execution_count": 10,
   "id": "833152c0",
   "metadata": {},
   "outputs": [],
   "source": [
    "df.drop(\"CustomerID\",axis=1,inplace=True)"
   ]
  },
  {
   "cell_type": "code",
   "execution_count": 11,
   "id": "6248d478",
   "metadata": {},
   "outputs": [
    {
     "data": {
      "text/plain": [
       "<Axes: xlabel='Gender', ylabel='count'>"
      ]
     },
     "execution_count": 11,
     "metadata": {},
     "output_type": "execute_result"
    },
    {
     "data": {
      "image/png": "[encoded data removed]",
      "text/plain": [
       "<Figure size 640x480 with 1 Axes>"
      ]
     },
     "metadata": {},
     "output_type": "display_data"
    }
   ],
   "source": [
    "sns.countplot(data=df,x=df[\"Gender\"],hue=\"Churn\")"
   ]
  },
  {
   "cell_type": "code",
   "execution_count": 12,
   "id": "bfdc494f",
   "metadata": {},
   "outputs": [
    {
     "data": {
      "text/plain": [
       "<Axes: xlabel='Location', ylabel='count'>"
      ]
     },
     "execution_count": 12,
     "metadata": {},
     "output_type": "execute_result"
    },
    {
     "data": {
      "image/png": "[encoded data removed]",
      "text/plain": [
       "<Figure size 640x480 with 1 Axes>"
      ]
     },
     "metadata": {},
     "output_type": "display_data"
    }
   ],
   "source": [
    "sns.countplot(data=df,x=df[\"Location\"],hue=\"Churn\")"
   ]
  },
  {
   "cell_type": "code",
   "execution_count": 13,
   "id": "f5bdf88e",
   "metadata": {},
   "outputs": [],
   "source": [
    "dummies=pd.get_dummies(df.Gender)\n",
    "df.drop(\"Gender\",axis=1,inplace=True)\n",
    "df=pd.concat([df,dummies],axis='columns')"
   ]
  },
  {
   "cell_type": "code",
   "execution_count": 14,
   "id": "7bcfbee9",
   "metadata": {},
   "outputs": [
    {
     "data": {
      "text/html": [
       "<div>\n",
       "<style scoped>\n",
       "    .dataframe tbody tr th:only-of-type {\n",
       "        vertical-align: middle;\n",
       "    }\n",
       "\n",
       "    .dataframe tbody tr th {\n",
       "        vertical-align: top;\n",
       "    }\n",
       "\n",
       "    .dataframe thead th {\n",
       "        text-align: right;\n",
       "    }\n",
       "</style>\n",
       "<table border=\"1\" class=\"dataframe\">\n",
       "  <thead>\n",
       "    <tr style=\"text-align: right;\">\n",
       "      <th></th>\n",
       "      <th>Name</th>\n",
       "      <th>Age</th>\n",
       "      <th>Location</th>\n",
       "      <th>Subscription_Length_Months</th>\n",
       "      <th>Monthly_Bill</th>\n",
       "      <th>Total_Usage_GB</th>\n",
       "      <th>Churn</th>\n",
       "      <th>Female</th>\n",
       "      <th>Male</th>\n",
       "    </tr>\n",
       "  </thead>\n",
       "  <tbody>\n",
       "    <tr>\n",
       "      <th>0</th>\n",
       "      <td>Customer_1</td>\n",
       "      <td>63</td>\n",
       "      <td>Los Angeles</td>\n",
       "      <td>17</td>\n",
       "      <td>73.36</td>\n",
       "      <td>236</td>\n",
       "      <td>0</td>\n",
       "      <td>0</td>\n",
       "      <td>1</td>\n",
       "    </tr>\n",
       "    <tr>\n",
       "      <th>1</th>\n",
       "      <td>Customer_2</td>\n",
       "      <td>62</td>\n",
       "      <td>New York</td>\n",
       "      <td>1</td>\n",
       "      <td>48.76</td>\n",
       "      <td>172</td>\n",
       "      <td>0</td>\n",
       "      <td>1</td>\n",
       "      <td>0</td>\n",
       "    </tr>\n",
       "    <tr>\n",
       "      <th>2</th>\n",
       "      <td>Customer_3</td>\n",
       "      <td>24</td>\n",
       "      <td>Los Angeles</td>\n",
       "      <td>5</td>\n",
       "      <td>85.47</td>\n",
       "      <td>460</td>\n",
       "      <td>0</td>\n",
       "      <td>1</td>\n",
       "      <td>0</td>\n",
       "    </tr>\n",
       "    <tr>\n",
       "      <th>3</th>\n",
       "      <td>Customer_4</td>\n",
       "      <td>36</td>\n",
       "      <td>Miami</td>\n",
       "      <td>3</td>\n",
       "      <td>97.94</td>\n",
       "      <td>297</td>\n",
       "      <td>1</td>\n",
       "      <td>1</td>\n",
       "      <td>0</td>\n",
       "    </tr>\n",
       "    <tr>\n",
       "      <th>4</th>\n",
       "      <td>Customer_5</td>\n",
       "      <td>46</td>\n",
       "      <td>Miami</td>\n",
       "      <td>19</td>\n",
       "      <td>58.14</td>\n",
       "      <td>266</td>\n",
       "      <td>0</td>\n",
       "      <td>1</td>\n",
       "      <td>0</td>\n",
       "    </tr>\n",
       "  </tbody>\n",
       "</table>\n",
       "</div>"
      ],
      "text/plain": [
       "         Name  Age     Location  Subscription_Length_Months  Monthly_Bill  \\\n",
       "0  Customer_1   63  Los Angeles                          17         73.36   \n",
       "1  Customer_2   62     New York                           1         48.76   \n",
       "2  Customer_3   24  Los Angeles                           5         85.47   \n",
       "3  Customer_4   36        Miami                           3         97.94   \n",
       "4  Customer_5   46        Miami                          19         58.14   \n",
       "\n",
       "   Total_Usage_GB  Churn  Female  Male  \n",
       "0             236      0       0     1  \n",
       "1             172      0       1     0  \n",
       "2             460      0       1     0  \n",
       "3             297      1       1     0  \n",
       "4             266      0       1     0  "
      ]
     },
     "execution_count": 14,
     "metadata": {},
     "output_type": "execute_result"
    }
   ],
   "source": [
    "df.head()"
   ]
  },
  {
   "cell_type": "code",
   "execution_count": 15,
   "id": "3fa2af96",
   "metadata": {},
   "outputs": [],
   "source": [
    "from sklearn.preprocessing import OneHotEncoder\n",
    "ohe=OneHotEncoder()\n",
    "location=ohe.fit_transform(df[\"Location\"].values.reshape(-1, 1)) .toarray()"
   ]
  },
  {
   "cell_type": "code",
   "execution_count": 16,
   "id": "da7b4ae9",
   "metadata": {},
   "outputs": [
    {
     "name": "stdout",
     "output_type": "stream",
     "text": [
      "['Chicago' 'Houston' 'Los Angeles' 'Miami' 'New York']\n"
     ]
    }
   ],
   "source": [
    "feature_labels=ohe.categories_\n",
    "feature_labels=np.array(feature_labels).ravel()\n",
    "print(feature_labels) \n",
    "one_hot_featurelabels=pd.DataFrame(location,columns=feature_labels)"
   ]
  },
  {
   "cell_type": "code",
   "execution_count": 17,
   "id": "5cf118fb",
   "metadata": {},
   "outputs": [],
   "source": [
    "df=pd.concat([df,one_hot_featurelabels],axis='columns')"
   ]
  },
  {
   "cell_type": "code",
   "execution_count": 18,
   "id": "49a8ba2c",
   "metadata": {},
   "outputs": [
    {
     "data": {
      "text/html": [
       "<div>\n",
       "<style scoped>\n",
       "    .dataframe tbody tr th:only-of-type {\n",
       "        vertical-align: middle;\n",
       "    }\n",
       "\n",
       "    .dataframe tbody tr th {\n",
       "        vertical-align: top;\n",
       "    }\n",
       "\n",
       "    .dataframe thead th {\n",
       "        text-align: right;\n",
       "    }\n",
       "</style>\n",
       "<table border=\"1\" class=\"dataframe\">\n",
       "  <thead>\n",
       "    <tr style=\"text-align: right;\">\n",
       "      <th></th>\n",
       "      <th>Age</th>\n",
       "      <th>Subscription_Length_Months</th>\n",
       "      <th>Monthly_Bill</th>\n",
       "      <th>Total_Usage_GB</th>\n",
       "      <th>Churn</th>\n",
       "      <th>Female</th>\n",
       "      <th>Male</th>\n",
       "      <th>Chicago</th>\n",
       "      <th>Houston</th>\n",
       "      <th>Los Angeles</th>\n",
       "      <th>Miami</th>\n",
       "      <th>New York</th>\n",
       "    </tr>\n",
       "  </thead>\n",
       "  <tbody>\n",
       "    <tr>\n",
       "      <th>0</th>\n",
       "      <td>63</td>\n",
       "      <td>17</td>\n",
       "      <td>73.36</td>\n",
       "      <td>236</td>\n",
       "      <td>0</td>\n",
       "      <td>0</td>\n",
       "      <td>1</td>\n",
       "      <td>0.0</td>\n",
       "      <td>0.0</td>\n",
       "      <td>1.0</td>\n",
       "      <td>0.0</td>\n",
       "      <td>0.0</td>\n",
       "    </tr>\n",
       "    <tr>\n",
       "      <th>1</th>\n",
       "      <td>62</td>\n",
       "      <td>1</td>\n",
       "      <td>48.76</td>\n",
       "      <td>172</td>\n",
       "      <td>0</td>\n",
       "      <td>1</td>\n",
       "      <td>0</td>\n",
       "      <td>0.0</td>\n",
       "      <td>0.0</td>\n",
       "      <td>0.0</td>\n",
       "      <td>0.0</td>\n",
       "      <td>1.0</td>\n",
       "    </tr>\n",
       "    <tr>\n",
       "      <th>2</th>\n",
       "      <td>24</td>\n",
       "      <td>5</td>\n",
       "      <td>85.47</td>\n",
       "      <td>460</td>\n",
       "      <td>0</td>\n",
       "      <td>1</td>\n",
       "      <td>0</td>\n",
       "      <td>0.0</td>\n",
       "      <td>0.0</td>\n",
       "      <td>1.0</td>\n",
       "      <td>0.0</td>\n",
       "      <td>0.0</td>\n",
       "    </tr>\n",
       "    <tr>\n",
       "      <th>3</th>\n",
       "      <td>36</td>\n",
       "      <td>3</td>\n",
       "      <td>97.94</td>\n",
       "      <td>297</td>\n",
       "      <td>1</td>\n",
       "      <td>1</td>\n",
       "      <td>0</td>\n",
       "      <td>0.0</td>\n",
       "      <td>0.0</td>\n",
       "      <td>0.0</td>\n",
       "      <td>1.0</td>\n",
       "      <td>0.0</td>\n",
       "    </tr>\n",
       "    <tr>\n",
       "      <th>4</th>\n",
       "      <td>46</td>\n",
       "      <td>19</td>\n",
       "      <td>58.14</td>\n",
       "      <td>266</td>\n",
       "      <td>0</td>\n",
       "      <td>1</td>\n",
       "      <td>0</td>\n",
       "      <td>0.0</td>\n",
       "      <td>0.0</td>\n",
       "      <td>0.0</td>\n",
       "      <td>1.0</td>\n",
       "      <td>0.0</td>\n",
       "    </tr>\n",
       "  </tbody>\n",
       "</table>\n",
       "</div>"
      ],
      "text/plain": [
       "   Age  Subscription_Length_Months  Monthly_Bill  Total_Usage_GB  Churn  \\\n",
       "0   63                          17         73.36             236      0   \n",
       "1   62                           1         48.76             172      0   \n",
       "2   24                           5         85.47             460      0   \n",
       "3   36                           3         97.94             297      1   \n",
       "4   46                          19         58.14             266      0   \n",
       "\n",
       "   Female  Male  Chicago  Houston  Los Angeles  Miami  New York  \n",
       "0       0     1      0.0      0.0          1.0    0.0       0.0  \n",
       "1       1     0      0.0      0.0          0.0    0.0       1.0  \n",
       "2       1     0      0.0      0.0          1.0    0.0       0.0  \n",
       "3       1     0      0.0      0.0          0.0    1.0       0.0  \n",
       "4       1     0      0.0      0.0          0.0    1.0       0.0  "
      ]
     },
     "execution_count": 18,
     "metadata": {},
     "output_type": "execute_result"
    }
   ],
   "source": [
    "df.drop(columns=[\"Name\",\"Location\"],inplace=True)\n",
    "df.head()"
   ]
  },
  {
   "cell_type": "code",
   "execution_count": 247,
   "id": "2ac2347a",
   "metadata": {},
   "outputs": [],
   "source": [
    "df.to_csv(\"new.csv\")"
   ]
  },
  {
   "cell_type": "code",
   "execution_count": 19,
   "id": "e511f7d5",
   "metadata": {},
   "outputs": [
    {
     "name": "stderr",
     "output_type": "stream",
     "text": [
      "C:\\Users\\Prakhar\\AppData\\Local\\Temp\\ipykernel_13164\\2382639120.py:1: FutureWarning: \n",
      "\n",
      "`shade` is now deprecated in favor of `fill`; setting `fill=True`.\n",
      "This will become an error in seaborn v0.14.0; please update your code.\n",
      "\n",
      "  mth=sns.kdeplot(df.Monthly_Bill[(df[\"Churn\"]==0)],\n",
      "C:\\Users\\Prakhar\\AppData\\Local\\Temp\\ipykernel_13164\\2382639120.py:3: FutureWarning: \n",
      "\n",
      "`shade` is now deprecated in favor of `fill`; setting `fill=True`.\n",
      "This will become an error in seaborn v0.14.0; please update your code.\n",
      "\n",
      "  mth=sns.kdeplot(df.Monthly_Bill[(df[\"Churn\"]==1)],\n"
     ]
    },
    {
     "data": {
      "text/plain": [
       "Text(0.5, 1.0, 'monthly charges by churn')"
      ]
     },
     "execution_count": 19,
     "metadata": {},
     "output_type": "execute_result"
    },
    {
     "data": {
      "image/png": "[encoded data removed]",
      "text/plain": [
       "<Figure size 640x480 with 1 Axes>"
      ]
     },
     "metadata": {},
     "output_type": "display_data"
    }
   ],
   "source": [
    "mth=sns.kdeplot(df.Monthly_Bill[(df[\"Churn\"]==0)],\n",
    "                color=\"Red\",shade=True)\n",
    "mth=sns.kdeplot(df.Monthly_Bill[(df[\"Churn\"]==1)],\n",
    "               ax=mth,color=\"Blue\",shade=True)\n",
    "\n",
    "mth.legend([\"No churn\",\"churn\"],loc='upper right')\n",
    "mth.set_ylabel(\"Density\")\n",
    "mth.set_xlabel(\"monthly charges\")\n",
    "mth.set_title(\"monthly charges by churn\")"
   ]
  },
  {
   "cell_type": "code",
   "execution_count": 20,
   "id": "f35246e6",
   "metadata": {},
   "outputs": [
    {
     "name": "stderr",
     "output_type": "stream",
     "text": [
      "C:\\Users\\Prakhar\\AppData\\Local\\Temp\\ipykernel_13164\\3616690983.py:1: FutureWarning: \n",
      "\n",
      "`shade` is now deprecated in favor of `fill`; setting `fill=True`.\n",
      "This will become an error in seaborn v0.14.0; please update your code.\n",
      "\n",
      "  mth=sns.kdeplot(df.Subscription_Length_Months[(df[\"Churn\"]==0)],\n",
      "C:\\Users\\Prakhar\\AppData\\Local\\Temp\\ipykernel_13164\\3616690983.py:3: FutureWarning: \n",
      "\n",
      "`shade` is now deprecated in favor of `fill`; setting `fill=True`.\n",
      "This will become an error in seaborn v0.14.0; please update your code.\n",
      "\n",
      "  mth=sns.kdeplot(df.Subscription_Length_Months[(df[\"Churn\"]==1)],\n"
     ]
    },
    {
     "data": {
      "text/plain": [
       "Text(0.5, 1.0, 'subsc. length by churn')"
      ]
     },
     "execution_count": 20,
     "metadata": {},
     "output_type": "execute_result"
    },
    {
     "data": {
      "image/png": "[encoded data removed]",
      "text/plain": [
       "<Figure size 640x480 with 1 Axes>"
      ]
     },
     "metadata": {},
     "output_type": "display_data"
    }
   ],
   "source": [
    "mth=sns.kdeplot(df.Subscription_Length_Months[(df[\"Churn\"]==0)],\n",
    "                color=\"Red\",shade=True)\n",
    "mth=sns.kdeplot(df.Subscription_Length_Months[(df[\"Churn\"]==1)],\n",
    "               ax=mth,color=\"Blue\",shade=True)\n",
    "\n",
    "mth.legend([\"No churn\",\"churn\"],loc='upper right')\n",
    "mth.set_ylabel(\"Density\")\n",
    "mth.set_xlabel(\"subsc. length\")\n",
    "mth.set_title(\"subsc. length by churn\")"
   ]
  },
  {
   "cell_type": "code",
   "execution_count": 21,
   "id": "23d9ae4c",
   "metadata": {},
   "outputs": [
    {
     "data": {
      "text/plain": [
       "<Axes: >"
      ]
     },
     "execution_count": 21,
     "metadata": {},
     "output_type": "execute_result"
    },
    {
     "data": {
      "image/png": "[encoded data removed]",
      "text/plain": [
       "<Figure size 2000x800 with 1 Axes>"
      ]
     },
     "metadata": {},
     "output_type": "display_data"
    }
   ],
   "source": [
    "plt.figure(figsize=(20,8))\n",
    "df.corr()[\"Churn\"].sort_values(ascending=False).plot(kind=\"bar\")"
   ]
  },
  {
   "cell_type": "code",
   "execution_count": 22,
   "id": "726edfd1",
   "metadata": {},
   "outputs": [
    {
     "data": {
      "text/html": [
       "<style type=\"text/css\">\n",
       "#T_078f5_row0_col0, #T_078f5_row1_col1, #T_078f5_row2_col2, #T_078f5_row3_col3, #T_078f5_row4_col4, #T_078f5_row5_col5, #T_078f5_row6_col6, #T_078f5_row7_col7, #T_078f5_row8_col8, #T_078f5_row9_col9, #T_078f5_row10_col10, #T_078f5_row11_col11 {\n",
       "  background-color: #67001f;\n",
       "  color: #f1f1f1;\n",
       "}\n",
       "#T_078f5_row0_col1, #T_078f5_row0_col4, #T_078f5_row1_col0, #T_078f5_row1_col4, #T_078f5_row3_col2, #T_078f5_row6_col2, #T_078f5_row6_col4, #T_078f5_row7_col0, #T_078f5_row9_col2, #T_078f5_row10_col1, #T_078f5_row11_col2 {\n",
       "  background-color: #073467;\n",
       "  color: #f1f1f1;\n",
       "}\n",
       "#T_078f5_row0_col2, #T_078f5_row0_col3, #T_078f5_row2_col0, #T_078f5_row2_col3, #T_078f5_row2_col4, #T_078f5_row3_col0, #T_078f5_row4_col0, #T_078f5_row4_col1, #T_078f5_row4_col2, #T_078f5_row5_col0, #T_078f5_row5_col1, #T_078f5_row5_col3, #T_078f5_row5_col4, #T_078f5_row6_col0, #T_078f5_row6_col1, #T_078f5_row7_col1, #T_078f5_row7_col4, #T_078f5_row8_col0, #T_078f5_row8_col2, #T_078f5_row9_col1, #T_078f5_row10_col0, #T_078f5_row10_col3, #T_078f5_row11_col3 {\n",
       "  background-color: #063264;\n",
       "  color: #f1f1f1;\n",
       "}\n",
       "#T_078f5_row0_col5, #T_078f5_row1_col5, #T_078f5_row2_col5, #T_078f5_row3_col6, #T_078f5_row4_col5, #T_078f5_row7_col6, #T_078f5_row8_col5, #T_078f5_row9_col6, #T_078f5_row10_col6, #T_078f5_row11_col6 {\n",
       "  background-color: #f6f7f7;\n",
       "  color: #000000;\n",
       "}\n",
       "#T_078f5_row0_col6, #T_078f5_row1_col6, #T_078f5_row2_col6, #T_078f5_row3_col5, #T_078f5_row4_col6, #T_078f5_row7_col5, #T_078f5_row8_col6, #T_078f5_row9_col5, #T_078f5_row10_col5, #T_078f5_row11_col5 {\n",
       "  background-color: #f7f6f6;\n",
       "  color: #000000;\n",
       "}\n",
       "#T_078f5_row0_col7, #T_078f5_row1_col10, #T_078f5_row2_col9, #T_078f5_row4_col10, #T_078f5_row4_col11, #T_078f5_row6_col8 {\n",
       "  background-color: #4695c4;\n",
       "  color: #f1f1f1;\n",
       "}\n",
       "#T_078f5_row0_col8, #T_078f5_row0_col10, #T_078f5_row1_col7, #T_078f5_row1_col8, #T_078f5_row1_col9, #T_078f5_row2_col8, #T_078f5_row2_col11, #T_078f5_row3_col7, #T_078f5_row3_col8, #T_078f5_row3_col9, #T_078f5_row3_col10, #T_078f5_row3_col11, #T_078f5_row4_col7, #T_078f5_row5_col7, #T_078f5_row5_col9, #T_078f5_row5_col10, #T_078f5_row5_col11, #T_078f5_row6_col7, #T_078f5_row6_col9, #T_078f5_row6_col10 {\n",
       "  background-color: #4393c3;\n",
       "  color: #f1f1f1;\n",
       "}\n",
       "#T_078f5_row0_col9, #T_078f5_row0_col11, #T_078f5_row1_col11, #T_078f5_row2_col7, #T_078f5_row2_col10, #T_078f5_row4_col8, #T_078f5_row4_col9, #T_078f5_row5_col8, #T_078f5_row6_col11 {\n",
       "  background-color: #4291c2;\n",
       "  color: #f1f1f1;\n",
       "}\n",
       "#T_078f5_row1_col2, #T_078f5_row1_col3, #T_078f5_row2_col1, #T_078f5_row3_col1, #T_078f5_row3_col4, #T_078f5_row4_col3, #T_078f5_row5_col2, #T_078f5_row5_col6, #T_078f5_row6_col3, #T_078f5_row6_col5, #T_078f5_row7_col2, #T_078f5_row7_col3, #T_078f5_row7_col8, #T_078f5_row7_col9, #T_078f5_row7_col10, #T_078f5_row7_col11, #T_078f5_row8_col1, #T_078f5_row8_col3, #T_078f5_row8_col4, #T_078f5_row8_col7, #T_078f5_row8_col9, #T_078f5_row8_col10, #T_078f5_row8_col11, #T_078f5_row9_col0, #T_078f5_row9_col3, #T_078f5_row9_col4, #T_078f5_row9_col7, #T_078f5_row9_col8, #T_078f5_row9_col10, #T_078f5_row9_col11, #T_078f5_row10_col2, #T_078f5_row10_col7, #T_078f5_row10_col8, #T_078f5_row10_col9, #T_078f5_row10_col11, #T_078f5_row11_col0, #T_078f5_row11_col1, #T_078f5_row11_col7, #T_078f5_row11_col8, #T_078f5_row11_col9, #T_078f5_row11_col10 {\n",
       "  background-color: #053061;\n",
       "  color: #f1f1f1;\n",
       "}\n",
       "#T_078f5_row10_col4, #T_078f5_row11_col4 {\n",
       "  background-color: #08366a;\n",
       "  color: #f1f1f1;\n",
       "}\n",
       "</style>\n",
       "<table id=\"T_078f5\">\n",
       "  <thead>\n",
       "    <tr>\n",
       "      <th class=\"blank level0\" >&nbsp;</th>\n",
       "      <th id=\"T_078f5_level0_col0\" class=\"col_heading level0 col0\" >Age</th>\n",
       "      <th id=\"T_078f5_level0_col1\" class=\"col_heading level0 col1\" >Subscription_Length_Months</th>\n",
       "      <th id=\"T_078f5_level0_col2\" class=\"col_heading level0 col2\" >Monthly_Bill</th>\n",
       "      <th id=\"T_078f5_level0_col3\" class=\"col_heading level0 col3\" >Total_Usage_GB</th>\n",
       "      <th id=\"T_078f5_level0_col4\" class=\"col_heading level0 col4\" >Churn</th>\n",
       "      <th id=\"T_078f5_level0_col5\" class=\"col_heading level0 col5\" >Female</th>\n",
       "      <th id=\"T_078f5_level0_col6\" class=\"col_heading level0 col6\" >Male</th>\n",
       "      <th id=\"T_078f5_level0_col7\" class=\"col_heading level0 col7\" >Chicago</th>\n",
       "      <th id=\"T_078f5_level0_col8\" class=\"col_heading level0 col8\" >Houston</th>\n",
       "      <th id=\"T_078f5_level0_col9\" class=\"col_heading level0 col9\" >Los Angeles</th>\n",
       "      <th id=\"T_078f5_level0_col10\" class=\"col_heading level0 col10\" >Miami</th>\n",
       "      <th id=\"T_078f5_level0_col11\" class=\"col_heading level0 col11\" >New York</th>\n",
       "    </tr>\n",
       "  </thead>\n",
       "  <tbody>\n",
       "    <tr>\n",
       "      <th id=\"T_078f5_level0_row0\" class=\"row_heading level0 row0\" >Age</th>\n",
       "      <td id=\"T_078f5_row0_col0\" class=\"data row0 col0\" >1.000000</td>\n",
       "      <td id=\"T_078f5_row0_col1\" class=\"data row0 col1\" >0.003382</td>\n",
       "      <td id=\"T_078f5_row0_col2\" class=\"data row0 col2\" >0.001110</td>\n",
       "      <td id=\"T_078f5_row0_col3\" class=\"data row0 col3\" >0.001927</td>\n",
       "      <td id=\"T_078f5_row0_col4\" class=\"data row0 col4\" >0.001559</td>\n",
       "      <td id=\"T_078f5_row0_col5\" class=\"data row0 col5\" >-0.000832</td>\n",
       "      <td id=\"T_078f5_row0_col6\" class=\"data row0 col6\" >0.000832</td>\n",
       "      <td id=\"T_078f5_row0_col7\" class=\"data row0 col7\" >0.006068</td>\n",
       "      <td id=\"T_078f5_row0_col8\" class=\"data row0 col8\" >0.001795</td>\n",
       "      <td id=\"T_078f5_row0_col9\" class=\"data row0 col9\" >-0.004971</td>\n",
       "      <td id=\"T_078f5_row0_col10\" class=\"data row0 col10\" >0.001079</td>\n",
       "      <td id=\"T_078f5_row0_col11\" class=\"data row0 col11\" >-0.003982</td>\n",
       "    </tr>\n",
       "    <tr>\n",
       "      <th id=\"T_078f5_level0_row1\" class=\"row_heading level0 row1\" >Subscription_Length_Months</th>\n",
       "      <td id=\"T_078f5_row1_col0\" class=\"data row1 col0\" >0.003382</td>\n",
       "      <td id=\"T_078f5_row1_col1\" class=\"data row1 col1\" >1.000000</td>\n",
       "      <td id=\"T_078f5_row1_col2\" class=\"data row1 col2\" >-0.005294</td>\n",
       "      <td id=\"T_078f5_row1_col3\" class=\"data row1 col3\" >-0.002203</td>\n",
       "      <td id=\"T_078f5_row1_col4\" class=\"data row1 col4\" >0.002328</td>\n",
       "      <td id=\"T_078f5_row1_col5\" class=\"data row1 col5\" >-0.000320</td>\n",
       "      <td id=\"T_078f5_row1_col6\" class=\"data row1 col6\" >0.000320</td>\n",
       "      <td id=\"T_078f5_row1_col7\" class=\"data row1 col7\" >0.002187</td>\n",
       "      <td id=\"T_078f5_row1_col8\" class=\"data row1 col8\" >-0.001842</td>\n",
       "      <td id=\"T_078f5_row1_col9\" class=\"data row1 col9\" >-0.001234</td>\n",
       "      <td id=\"T_078f5_row1_col10\" class=\"data row1 col10\" >0.005508</td>\n",
       "      <td id=\"T_078f5_row1_col11\" class=\"data row1 col11\" >-0.004630</td>\n",
       "    </tr>\n",
       "    <tr>\n",
       "      <th id=\"T_078f5_level0_row2\" class=\"row_heading level0 row2\" >Monthly_Bill</th>\n",
       "      <td id=\"T_078f5_row2_col0\" class=\"data row2 col0\" >0.001110</td>\n",
       "      <td id=\"T_078f5_row2_col1\" class=\"data row2 col1\" >-0.005294</td>\n",
       "      <td id=\"T_078f5_row2_col2\" class=\"data row2 col2\" >1.000000</td>\n",
       "      <td id=\"T_078f5_row2_col3\" class=\"data row2 col3\" >0.003187</td>\n",
       "      <td id=\"T_078f5_row2_col4\" class=\"data row2 col4\" >-0.000211</td>\n",
       "      <td id=\"T_078f5_row2_col5\" class=\"data row2 col5\" >-0.002239</td>\n",
       "      <td id=\"T_078f5_row2_col6\" class=\"data row2 col6\" >0.002239</td>\n",
       "      <td id=\"T_078f5_row2_col7\" class=\"data row2 col7\" >-0.005772</td>\n",
       "      <td id=\"T_078f5_row2_col8\" class=\"data row2 col8\" >0.001856</td>\n",
       "      <td id=\"T_078f5_row2_col9\" class=\"data row2 col9\" >0.003444</td>\n",
       "      <td id=\"T_078f5_row2_col10\" class=\"data row2 col10\" >-0.002521</td>\n",
       "      <td id=\"T_078f5_row2_col11\" class=\"data row2 col11\" >0.002992</td>\n",
       "    </tr>\n",
       "    <tr>\n",
       "      <th id=\"T_078f5_level0_row3\" class=\"row_heading level0 row3\" >Total_Usage_GB</th>\n",
       "      <td id=\"T_078f5_row3_col0\" class=\"data row3 col0\" >0.001927</td>\n",
       "      <td id=\"T_078f5_row3_col1\" class=\"data row3 col1\" >-0.002203</td>\n",
       "      <td id=\"T_078f5_row3_col2\" class=\"data row3 col2\" >0.003187</td>\n",
       "      <td id=\"T_078f5_row3_col3\" class=\"data row3 col3\" >1.000000</td>\n",
       "      <td id=\"T_078f5_row3_col4\" class=\"data row3 col4\" >-0.002842</td>\n",
       "      <td id=\"T_078f5_row3_col5\" class=\"data row3 col5\" >0.001385</td>\n",
       "      <td id=\"T_078f5_row3_col6\" class=\"data row3 col6\" >-0.001385</td>\n",
       "      <td id=\"T_078f5_row3_col7\" class=\"data row3 col7\" >-0.000442</td>\n",
       "      <td id=\"T_078f5_row3_col8\" class=\"data row3 col8\" >-0.002137</td>\n",
       "      <td id=\"T_078f5_row3_col9\" class=\"data row3 col9\" >-0.001562</td>\n",
       "      <td id=\"T_078f5_row3_col10\" class=\"data row3 col10\" >0.001320</td>\n",
       "      <td id=\"T_078f5_row3_col11\" class=\"data row3 col11\" >0.002837</td>\n",
       "    </tr>\n",
       "    <tr>\n",
       "      <th id=\"T_078f5_level0_row4\" class=\"row_heading level0 row4\" >Churn</th>\n",
       "      <td id=\"T_078f5_row4_col0\" class=\"data row4 col0\" >0.001559</td>\n",
       "      <td id=\"T_078f5_row4_col1\" class=\"data row4 col1\" >0.002328</td>\n",
       "      <td id=\"T_078f5_row4_col2\" class=\"data row4 col2\" >-0.000211</td>\n",
       "      <td id=\"T_078f5_row4_col3\" class=\"data row4 col3\" >-0.002842</td>\n",
       "      <td id=\"T_078f5_row4_col4\" class=\"data row4 col4\" >1.000000</td>\n",
       "      <td id=\"T_078f5_row4_col5\" class=\"data row4 col5\" >-0.002121</td>\n",
       "      <td id=\"T_078f5_row4_col6\" class=\"data row4 col6\" >0.002121</td>\n",
       "      <td id=\"T_078f5_row4_col7\" class=\"data row4 col7\" >0.000506</td>\n",
       "      <td id=\"T_078f5_row4_col8\" class=\"data row4 col8\" >-0.006728</td>\n",
       "      <td id=\"T_078f5_row4_col9\" class=\"data row4 col9\" >-0.004807</td>\n",
       "      <td id=\"T_078f5_row4_col10\" class=\"data row4 col10\" >0.005235</td>\n",
       "      <td id=\"T_078f5_row4_col11\" class=\"data row4 col11\" >0.005835</td>\n",
       "    </tr>\n",
       "    <tr>\n",
       "      <th id=\"T_078f5_level0_row5\" class=\"row_heading level0 row5\" >Female</th>\n",
       "      <td id=\"T_078f5_row5_col0\" class=\"data row5 col0\" >-0.000832</td>\n",
       "      <td id=\"T_078f5_row5_col1\" class=\"data row5 col1\" >-0.000320</td>\n",
       "      <td id=\"T_078f5_row5_col2\" class=\"data row5 col2\" >-0.002239</td>\n",
       "      <td id=\"T_078f5_row5_col3\" class=\"data row5 col3\" >0.001385</td>\n",
       "      <td id=\"T_078f5_row5_col4\" class=\"data row5 col4\" >-0.002121</td>\n",
       "      <td id=\"T_078f5_row5_col5\" class=\"data row5 col5\" >1.000000</td>\n",
       "      <td id=\"T_078f5_row5_col6\" class=\"data row5 col6\" >-1.000000</td>\n",
       "      <td id=\"T_078f5_row5_col7\" class=\"data row5 col7\" >0.000695</td>\n",
       "      <td id=\"T_078f5_row5_col8\" class=\"data row5 col8\" >-0.006234</td>\n",
       "      <td id=\"T_078f5_row5_col9\" class=\"data row5 col9\" >0.001360</td>\n",
       "      <td id=\"T_078f5_row5_col10\" class=\"data row5 col10\" >0.001561</td>\n",
       "      <td id=\"T_078f5_row5_col11\" class=\"data row5 col11\" >0.002645</td>\n",
       "    </tr>\n",
       "    <tr>\n",
       "      <th id=\"T_078f5_level0_row6\" class=\"row_heading level0 row6\" >Male</th>\n",
       "      <td id=\"T_078f5_row6_col0\" class=\"data row6 col0\" >0.000832</td>\n",
       "      <td id=\"T_078f5_row6_col1\" class=\"data row6 col1\" >0.000320</td>\n",
       "      <td id=\"T_078f5_row6_col2\" class=\"data row6 col2\" >0.002239</td>\n",
       "      <td id=\"T_078f5_row6_col3\" class=\"data row6 col3\" >-0.001385</td>\n",
       "      <td id=\"T_078f5_row6_col4\" class=\"data row6 col4\" >0.002121</td>\n",
       "      <td id=\"T_078f5_row6_col5\" class=\"data row6 col5\" >-1.000000</td>\n",
       "      <td id=\"T_078f5_row6_col6\" class=\"data row6 col6\" >1.000000</td>\n",
       "      <td id=\"T_078f5_row6_col7\" class=\"data row6 col7\" >-0.000695</td>\n",
       "      <td id=\"T_078f5_row6_col8\" class=\"data row6 col8\" >0.006234</td>\n",
       "      <td id=\"T_078f5_row6_col9\" class=\"data row6 col9\" >-0.001360</td>\n",
       "      <td id=\"T_078f5_row6_col10\" class=\"data row6 col10\" >-0.001561</td>\n",
       "      <td id=\"T_078f5_row6_col11\" class=\"data row6 col11\" >-0.002645</td>\n",
       "    </tr>\n",
       "    <tr>\n",
       "      <th id=\"T_078f5_level0_row7\" class=\"row_heading level0 row7\" >Chicago</th>\n",
       "      <td id=\"T_078f5_row7_col0\" class=\"data row7 col0\" >0.006068</td>\n",
       "      <td id=\"T_078f5_row7_col1\" class=\"data row7 col1\" >0.002187</td>\n",
       "      <td id=\"T_078f5_row7_col2\" class=\"data row7 col2\" >-0.005772</td>\n",
       "      <td id=\"T_078f5_row7_col3\" class=\"data row7 col3\" >-0.000442</td>\n",
       "      <td id=\"T_078f5_row7_col4\" class=\"data row7 col4\" >0.000506</td>\n",
       "      <td id=\"T_078f5_row7_col5\" class=\"data row7 col5\" >0.000695</td>\n",
       "      <td id=\"T_078f5_row7_col6\" class=\"data row7 col6\" >-0.000695</td>\n",
       "      <td id=\"T_078f5_row7_col7\" class=\"data row7 col7\" >1.000000</td>\n",
       "      <td id=\"T_078f5_row7_col8\" class=\"data row7 col8\" >-0.250896</td>\n",
       "      <td id=\"T_078f5_row7_col9\" class=\"data row7 col9\" >-0.249992</td>\n",
       "      <td id=\"T_078f5_row7_col10\" class=\"data row7 col10\" >-0.249914</td>\n",
       "      <td id=\"T_078f5_row7_col11\" class=\"data row7 col11\" >-0.248212</td>\n",
       "    </tr>\n",
       "    <tr>\n",
       "      <th id=\"T_078f5_level0_row8\" class=\"row_heading level0 row8\" >Houston</th>\n",
       "      <td id=\"T_078f5_row8_col0\" class=\"data row8 col0\" >0.001795</td>\n",
       "      <td id=\"T_078f5_row8_col1\" class=\"data row8 col1\" >-0.001842</td>\n",
       "      <td id=\"T_078f5_row8_col2\" class=\"data row8 col2\" >0.001856</td>\n",
       "      <td id=\"T_078f5_row8_col3\" class=\"data row8 col3\" >-0.002137</td>\n",
       "      <td id=\"T_078f5_row8_col4\" class=\"data row8 col4\" >-0.006728</td>\n",
       "      <td id=\"T_078f5_row8_col5\" class=\"data row8 col5\" >-0.006234</td>\n",
       "      <td id=\"T_078f5_row8_col6\" class=\"data row8 col6\" >0.006234</td>\n",
       "      <td id=\"T_078f5_row8_col7\" class=\"data row8 col7\" >-0.250896</td>\n",
       "      <td id=\"T_078f5_row8_col8\" class=\"data row8 col8\" >1.000000</td>\n",
       "      <td id=\"T_078f5_row8_col9\" class=\"data row8 col9\" >-0.251548</td>\n",
       "      <td id=\"T_078f5_row8_col10\" class=\"data row8 col10\" >-0.251469</td>\n",
       "      <td id=\"T_078f5_row8_col11\" class=\"data row8 col11\" >-0.249757</td>\n",
       "    </tr>\n",
       "    <tr>\n",
       "      <th id=\"T_078f5_level0_row9\" class=\"row_heading level0 row9\" >Los Angeles</th>\n",
       "      <td id=\"T_078f5_row9_col0\" class=\"data row9 col0\" >-0.004971</td>\n",
       "      <td id=\"T_078f5_row9_col1\" class=\"data row9 col1\" >-0.001234</td>\n",
       "      <td id=\"T_078f5_row9_col2\" class=\"data row9 col2\" >0.003444</td>\n",
       "      <td id=\"T_078f5_row9_col3\" class=\"data row9 col3\" >-0.001562</td>\n",
       "      <td id=\"T_078f5_row9_col4\" class=\"data row9 col4\" >-0.004807</td>\n",
       "      <td id=\"T_078f5_row9_col5\" class=\"data row9 col5\" >0.001360</td>\n",
       "      <td id=\"T_078f5_row9_col6\" class=\"data row9 col6\" >-0.001360</td>\n",
       "      <td id=\"T_078f5_row9_col7\" class=\"data row9 col7\" >-0.249992</td>\n",
       "      <td id=\"T_078f5_row9_col8\" class=\"data row9 col8\" >-0.251548</td>\n",
       "      <td id=\"T_078f5_row9_col9\" class=\"data row9 col9\" >1.000000</td>\n",
       "      <td id=\"T_078f5_row9_col10\" class=\"data row9 col10\" >-0.250563</td>\n",
       "      <td id=\"T_078f5_row9_col11\" class=\"data row9 col11\" >-0.248857</td>\n",
       "    </tr>\n",
       "    <tr>\n",
       "      <th id=\"T_078f5_level0_row10\" class=\"row_heading level0 row10\" >Miami</th>\n",
       "      <td id=\"T_078f5_row10_col0\" class=\"data row10 col0\" >0.001079</td>\n",
       "      <td id=\"T_078f5_row10_col1\" class=\"data row10 col1\" >0.005508</td>\n",
       "      <td id=\"T_078f5_row10_col2\" class=\"data row10 col2\" >-0.002521</td>\n",
       "      <td id=\"T_078f5_row10_col3\" class=\"data row10 col3\" >0.001320</td>\n",
       "      <td id=\"T_078f5_row10_col4\" class=\"data row10 col4\" >0.005235</td>\n",
       "      <td id=\"T_078f5_row10_col5\" class=\"data row10 col5\" >0.001561</td>\n",
       "      <td id=\"T_078f5_row10_col6\" class=\"data row10 col6\" >-0.001561</td>\n",
       "      <td id=\"T_078f5_row10_col7\" class=\"data row10 col7\" >-0.249914</td>\n",
       "      <td id=\"T_078f5_row10_col8\" class=\"data row10 col8\" >-0.251469</td>\n",
       "      <td id=\"T_078f5_row10_col9\" class=\"data row10 col9\" >-0.250563</td>\n",
       "      <td id=\"T_078f5_row10_col10\" class=\"data row10 col10\" >1.000000</td>\n",
       "      <td id=\"T_078f5_row10_col11\" class=\"data row10 col11\" >-0.248779</td>\n",
       "    </tr>\n",
       "    <tr>\n",
       "      <th id=\"T_078f5_level0_row11\" class=\"row_heading level0 row11\" >New York</th>\n",
       "      <td id=\"T_078f5_row11_col0\" class=\"data row11 col0\" >-0.003982</td>\n",
       "      <td id=\"T_078f5_row11_col1\" class=\"data row11 col1\" >-0.004630</td>\n",
       "      <td id=\"T_078f5_row11_col2\" class=\"data row11 col2\" >0.002992</td>\n",
       "      <td id=\"T_078f5_row11_col3\" class=\"data row11 col3\" >0.002837</td>\n",
       "      <td id=\"T_078f5_row11_col4\" class=\"data row11 col4\" >0.005835</td>\n",
       "      <td id=\"T_078f5_row11_col5\" class=\"data row11 col5\" >0.002645</td>\n",
       "      <td id=\"T_078f5_row11_col6\" class=\"data row11 col6\" >-0.002645</td>\n",
       "      <td id=\"T_078f5_row11_col7\" class=\"data row11 col7\" >-0.248212</td>\n",
       "      <td id=\"T_078f5_row11_col8\" class=\"data row11 col8\" >-0.249757</td>\n",
       "      <td id=\"T_078f5_row11_col9\" class=\"data row11 col9\" >-0.248857</td>\n",
       "      <td id=\"T_078f5_row11_col10\" class=\"data row11 col10\" >-0.248779</td>\n",
       "      <td id=\"T_078f5_row11_col11\" class=\"data row11 col11\" >1.000000</td>\n",
       "    </tr>\n",
       "  </tbody>\n",
       "</table>\n"
      ],
      "text/plain": [
       "<pandas.io.formats.style.Styler at 0x217d67e6fb0>"
      ]
     },
     "execution_count": 22,
     "metadata": {},
     "output_type": "execute_result"
    }
   ],
   "source": [
    "corr = df.corr()\n",
    "corr.style.background_gradient(cmap='RdBu_r')"
   ]
  },
  {
   "cell_type": "code",
   "execution_count": 23,
   "id": "f89a126d",
   "metadata": {},
   "outputs": [
    {
     "data": {
      "text/plain": [
       "<Axes: >"
      ]
     },
     "execution_count": 23,
     "metadata": {},
     "output_type": "execute_result"
    },
    {
     "data": {
      "image/png": "[encoded data removed]",
      "text/plain": [
       "<Figure size 1000x800 with 2 Axes>"
      ]
     },
     "metadata": {},
     "output_type": "display_data"
    }
   ],
   "source": [
    "import seaborn as sns\n",
    "\n",
    "f, ax = plt.subplots(figsize=(10, 8))\n",
    "corr = df.corr()\n",
    "sns.heatmap(corr,\n",
    "    cmap=sns.diverging_palette(220, 10, as_cmap=True),\n",
    "    vmin=-1.0, vmax=1.0,\n",
    "    square=True, ax=ax)"
   ]
  },
  {
   "cell_type": "code",
   "execution_count": null,
   "id": "98d47b58",
   "metadata": {},
   "outputs": [],
   "source": []
  },
  {
   "cell_type": "code",
   "execution_count": null,
   "id": "726831aa",
   "metadata": {},
   "outputs": [],
   "source": []
  },
  {
   "cell_type": "code",
   "execution_count": 29,
   "id": "8d5dff97",
   "metadata": {},
   "outputs": [],
   "source": [
    "import pandas as pd \n",
    "from sklearn import metrics \n",
    "from sklearn.model_selection import train_test_split\n",
    "from sklearn.metrics import recall_score\n",
    "from sklearn.metrics import classification_report\n",
    "from sklearn.metrics import confusion_matrix\n",
    "from sklearn.ensemble import RandomForestClassifier\n",
    "from imblearn.combine import SMOTEENN"
   ]
  },
  {
   "cell_type": "code",
   "execution_count": 48,
   "id": "509c361a",
   "metadata": {},
   "outputs": [],
   "source": [
    "from sklearn.metrics import f1_score\n"
   ]
  },
  {
   "cell_type": "code",
   "execution_count": 226,
   "id": "8d7435c5",
   "metadata": {},
   "outputs": [
    {
     "data": {
      "text/html": [
       "<div>\n",
       "<style scoped>\n",
       "    .dataframe tbody tr th:only-of-type {\n",
       "        vertical-align: middle;\n",
       "    }\n",
       "\n",
       "    .dataframe tbody tr th {\n",
       "        vertical-align: top;\n",
       "    }\n",
       "\n",
       "    .dataframe thead th {\n",
       "        text-align: right;\n",
       "    }\n",
       "</style>\n",
       "<table border=\"1\" class=\"dataframe\">\n",
       "  <thead>\n",
       "    <tr style=\"text-align: right;\">\n",
       "      <th></th>\n",
       "      <th>Age</th>\n",
       "      <th>Subscription_Length_Months</th>\n",
       "      <th>Monthly_Bill</th>\n",
       "      <th>Total_Usage_GB</th>\n",
       "      <th>Female</th>\n",
       "      <th>Male</th>\n",
       "      <th>Chicago</th>\n",
       "      <th>Houston</th>\n",
       "      <th>Los Angeles</th>\n",
       "      <th>Miami</th>\n",
       "      <th>New York</th>\n",
       "    </tr>\n",
       "  </thead>\n",
       "  <tbody>\n",
       "    <tr>\n",
       "      <th>0</th>\n",
       "      <td>63</td>\n",
       "      <td>17</td>\n",
       "      <td>73.36</td>\n",
       "      <td>236</td>\n",
       "      <td>0</td>\n",
       "      <td>1</td>\n",
       "      <td>0.0</td>\n",
       "      <td>0.0</td>\n",
       "      <td>1.0</td>\n",
       "      <td>0.0</td>\n",
       "      <td>0.0</td>\n",
       "    </tr>\n",
       "    <tr>\n",
       "      <th>1</th>\n",
       "      <td>62</td>\n",
       "      <td>1</td>\n",
       "      <td>48.76</td>\n",
       "      <td>172</td>\n",
       "      <td>1</td>\n",
       "      <td>0</td>\n",
       "      <td>0.0</td>\n",
       "      <td>0.0</td>\n",
       "      <td>0.0</td>\n",
       "      <td>0.0</td>\n",
       "      <td>1.0</td>\n",
       "    </tr>\n",
       "    <tr>\n",
       "      <th>2</th>\n",
       "      <td>24</td>\n",
       "      <td>5</td>\n",
       "      <td>85.47</td>\n",
       "      <td>460</td>\n",
       "      <td>1</td>\n",
       "      <td>0</td>\n",
       "      <td>0.0</td>\n",
       "      <td>0.0</td>\n",
       "      <td>1.0</td>\n",
       "      <td>0.0</td>\n",
       "      <td>0.0</td>\n",
       "    </tr>\n",
       "    <tr>\n",
       "      <th>3</th>\n",
       "      <td>36</td>\n",
       "      <td>3</td>\n",
       "      <td>97.94</td>\n",
       "      <td>297</td>\n",
       "      <td>1</td>\n",
       "      <td>0</td>\n",
       "      <td>0.0</td>\n",
       "      <td>0.0</td>\n",
       "      <td>0.0</td>\n",
       "      <td>1.0</td>\n",
       "      <td>0.0</td>\n",
       "    </tr>\n",
       "    <tr>\n",
       "      <th>4</th>\n",
       "      <td>46</td>\n",
       "      <td>19</td>\n",
       "      <td>58.14</td>\n",
       "      <td>266</td>\n",
       "      <td>1</td>\n",
       "      <td>0</td>\n",
       "      <td>0.0</td>\n",
       "      <td>0.0</td>\n",
       "      <td>0.0</td>\n",
       "      <td>1.0</td>\n",
       "      <td>0.0</td>\n",
       "    </tr>\n",
       "  </tbody>\n",
       "</table>\n",
       "</div>"
      ],
      "text/plain": [
       "   Age  Subscription_Length_Months  Monthly_Bill  Total_Usage_GB  Female  \\\n",
       "0   63                          17         73.36             236       0   \n",
       "1   62                           1         48.76             172       1   \n",
       "2   24                           5         85.47             460       1   \n",
       "3   36                           3         97.94             297       1   \n",
       "4   46                          19         58.14             266       1   \n",
       "\n",
       "   Male  Chicago  Houston  Los Angeles  Miami  New York  \n",
       "0     1      0.0      0.0          1.0    0.0       0.0  \n",
       "1     0      0.0      0.0          0.0    0.0       1.0  \n",
       "2     0      0.0      0.0          1.0    0.0       0.0  \n",
       "3     0      0.0      0.0          0.0    1.0       0.0  \n",
       "4     0      0.0      0.0          0.0    1.0       0.0  "
      ]
     },
     "execution_count": 226,
     "metadata": {},
     "output_type": "execute_result"
    }
   ],
   "source": [
    "x=df.drop(\"Churn\",axis=1)\n",
    "x.head()"
   ]
  },
  {
   "cell_type": "code",
   "execution_count": 227,
   "id": "5cbad4be",
   "metadata": {},
   "outputs": [],
   "source": [
    "y=df[\"Churn\"]"
   ]
  },
  {
   "cell_type": "code",
   "execution_count": 60,
   "id": "d3703a86",
   "metadata": {},
   "outputs": [],
   "source": [
    "from sklearn.preprocessing import StandardScaler"
   ]
  },
  {
   "cell_type": "code",
   "execution_count": 204,
   "id": "2b2ea329",
   "metadata": {},
   "outputs": [
    {
     "data": {
      "text/plain": [
       "['Age',\n",
       " 'Subscription_Length_Months',\n",
       " 'Monthly_Bill',\n",
       " 'Total_Usage_GB',\n",
       " 'Female',\n",
       " 'Male',\n",
       " 'Chicago',\n",
       " 'Houston',\n",
       " 'Los Angeles',\n",
       " 'Miami',\n",
       " 'New York']"
      ]
     },
     "execution_count": 204,
     "metadata": {},
     "output_type": "execute_result"
    }
   ],
   "source": [
    "my_list=list(x)\n",
    "my_list"
   ]
  },
  {
   "cell_type": "code",
   "execution_count": 205,
   "id": "e708d0df",
   "metadata": {},
   "outputs": [
    {
     "data": {
      "text/html": [
       "<div>\n",
       "<style scoped>\n",
       "    .dataframe tbody tr th:only-of-type {\n",
       "        vertical-align: middle;\n",
       "    }\n",
       "\n",
       "    .dataframe tbody tr th {\n",
       "        vertical-align: top;\n",
       "    }\n",
       "\n",
       "    .dataframe thead th {\n",
       "        text-align: right;\n",
       "    }\n",
       "</style>\n",
       "<table border=\"1\" class=\"dataframe\">\n",
       "  <thead>\n",
       "    <tr style=\"text-align: right;\">\n",
       "      <th></th>\n",
       "      <th>Age</th>\n",
       "      <th>Subscription_Length_Months</th>\n",
       "      <th>Monthly_Bill</th>\n",
       "      <th>Total_Usage_GB</th>\n",
       "      <th>Female</th>\n",
       "      <th>Male</th>\n",
       "      <th>Chicago</th>\n",
       "      <th>Houston</th>\n",
       "      <th>Los Angeles</th>\n",
       "      <th>Miami</th>\n",
       "      <th>New York</th>\n",
       "    </tr>\n",
       "  </thead>\n",
       "  <tbody>\n",
       "    <tr>\n",
       "      <th>0</th>\n",
       "      <td>1.241670</td>\n",
       "      <td>0.651115</td>\n",
       "      <td>0.410606</td>\n",
       "      <td>-0.294289</td>\n",
       "      <td>-1.004329</td>\n",
       "      <td>1.004329</td>\n",
       "      <td>-0.499344</td>\n",
       "      <td>-0.502452</td>\n",
       "      <td>1.997441</td>\n",
       "      <td>-0.500484</td>\n",
       "      <td>-0.497076</td>\n",
       "    </tr>\n",
       "    <tr>\n",
       "      <th>1</th>\n",
       "      <td>1.176226</td>\n",
       "      <td>-1.658879</td>\n",
       "      <td>-0.805374</td>\n",
       "      <td>-0.784852</td>\n",
       "      <td>0.995689</td>\n",
       "      <td>-0.995689</td>\n",
       "      <td>-0.499344</td>\n",
       "      <td>-0.502452</td>\n",
       "      <td>-0.500641</td>\n",
       "      <td>-0.500484</td>\n",
       "      <td>2.011763</td>\n",
       "    </tr>\n",
       "    <tr>\n",
       "      <th>2</th>\n",
       "      <td>-1.310651</td>\n",
       "      <td>-1.081380</td>\n",
       "      <td>1.009204</td>\n",
       "      <td>1.422681</td>\n",
       "      <td>0.995689</td>\n",
       "      <td>-0.995689</td>\n",
       "      <td>-0.499344</td>\n",
       "      <td>-0.502452</td>\n",
       "      <td>1.997441</td>\n",
       "      <td>-0.500484</td>\n",
       "      <td>-0.497076</td>\n",
       "    </tr>\n",
       "    <tr>\n",
       "      <th>3</th>\n",
       "      <td>-0.525321</td>\n",
       "      <td>-1.370129</td>\n",
       "      <td>1.625597</td>\n",
       "      <td>0.173279</td>\n",
       "      <td>0.995689</td>\n",
       "      <td>-0.995689</td>\n",
       "      <td>-0.499344</td>\n",
       "      <td>-0.502452</td>\n",
       "      <td>-0.500641</td>\n",
       "      <td>1.998065</td>\n",
       "      <td>-0.497076</td>\n",
       "    </tr>\n",
       "    <tr>\n",
       "      <th>4</th>\n",
       "      <td>0.129120</td>\n",
       "      <td>0.939864</td>\n",
       "      <td>-0.341720</td>\n",
       "      <td>-0.064338</td>\n",
       "      <td>0.995689</td>\n",
       "      <td>-0.995689</td>\n",
       "      <td>-0.499344</td>\n",
       "      <td>-0.502452</td>\n",
       "      <td>-0.500641</td>\n",
       "      <td>1.998065</td>\n",
       "      <td>-0.497076</td>\n",
       "    </tr>\n",
       "  </tbody>\n",
       "</table>\n",
       "</div>"
      ],
      "text/plain": [
       "        Age  Subscription_Length_Months  Monthly_Bill  Total_Usage_GB  \\\n",
       "0  1.241670                    0.651115      0.410606       -0.294289   \n",
       "1  1.176226                   -1.658879     -0.805374       -0.784852   \n",
       "2 -1.310651                   -1.081380      1.009204        1.422681   \n",
       "3 -0.525321                   -1.370129      1.625597        0.173279   \n",
       "4  0.129120                    0.939864     -0.341720       -0.064338   \n",
       "\n",
       "     Female      Male   Chicago   Houston  Los Angeles     Miami  New York  \n",
       "0 -1.004329  1.004329 -0.499344 -0.502452     1.997441 -0.500484 -0.497076  \n",
       "1  0.995689 -0.995689 -0.499344 -0.502452    -0.500641 -0.500484  2.011763  \n",
       "2  0.995689 -0.995689 -0.499344 -0.502452     1.997441 -0.500484 -0.497076  \n",
       "3  0.995689 -0.995689 -0.499344 -0.502452    -0.500641  1.998065 -0.497076  \n",
       "4  0.995689 -0.995689 -0.499344 -0.502452    -0.500641  1.998065 -0.497076  "
      ]
     },
     "execution_count": 205,
     "metadata": {},
     "output_type": "execute_result"
    }
   ],
   "source": [
    "scaler = StandardScaler()\n",
    "x_scaled=pd.DataFrame(scaler.fit_transform(x),columns=my_list)\n",
    "x_scaled.head()"
   ]
  },
  {
   "cell_type": "code",
   "execution_count": null,
   "id": "e4f03583",
   "metadata": {},
   "outputs": [],
   "source": []
  },
  {
   "cell_type": "code",
   "execution_count": null,
   "id": "8bb41949",
   "metadata": {},
   "outputs": [],
   "source": []
  },
  {
   "cell_type": "code",
   "execution_count": null,
   "id": "1a5d1169",
   "metadata": {},
   "outputs": [],
   "source": []
  },
  {
   "cell_type": "code",
   "execution_count": 228,
   "id": "f5b605ab",
   "metadata": {},
   "outputs": [],
   "source": [
    "x_train,x_test,y_train,y_test=train_test_split(x_scaled,y,test_size=0.2)\n"
   ]
  },
  {
   "cell_type": "code",
   "execution_count": 84,
   "id": "df435c27",
   "metadata": {},
   "outputs": [],
   "source": [
    "clf = RandomForestClassifier(random_state=42,criterion=\"entropy\")"
   ]
  },
  {
   "cell_type": "code",
   "execution_count": 85,
   "id": "2e317511",
   "metadata": {},
   "outputs": [
    {
     "data": {
      "text/html": [
       "<style>#sk-container-id-8 {color: black;background-color: white;}#sk-container-id-8 pre{padding: 0;}#sk-container-id-8 div.sk-toggleable {background-color: white;}#sk-container-id-8 label.sk-toggleable__label {cursor: pointer;display: block;width: 100%;margin-bottom: 0;padding: 0.3em;box-sizing: border-box;text-align: center;}#sk-container-id-8 label.sk-toggleable__label-arrow:before {content: \"▸\";float: left;margin-right: 0.25em;color: #696969;}#sk-container-id-8 label.sk-toggleable__label-arrow:hover:before {color: black;}#sk-container-id-8 div.sk-estimator:hover label.sk-toggleable__label-arrow:before {color: black;}#sk-container-id-8 div.sk-toggleable__content {max-height: 0;max-width: 0;overflow: hidden;text-align: left;background-color: #f0f8ff;}#sk-container-id-8 div.sk-toggleable__content pre {margin: 0.2em;color: black;border-radius: 0.25em;background-color: #f0f8ff;}#sk-container-id-8 input.sk-toggleable__control:checked~div.sk-toggleable__content {max-height: 200px;max-width: 100%;overflow: auto;}#sk-container-id-8 input.sk-toggleable__control:checked~label.sk-toggleable__label-arrow:before {content: \"▾\";}#sk-container-id-8 div.sk-estimator input.sk-toggleable__control:checked~label.sk-toggleable__label {background-color: #d4ebff;}#sk-container-id-8 div.sk-label input.sk-toggleable__control:checked~label.sk-toggleable__label {background-color: #d4ebff;}#sk-container-id-8 input.sk-hidden--visually {border: 0;clip: rect(1px 1px 1px 1px);clip: rect(1px, 1px, 1px, 1px);height: 1px;margin: -1px;overflow: hidden;padding: 0;position: absolute;width: 1px;}#sk-container-id-8 div.sk-estimator {font-family: monospace;background-color: #f0f8ff;border: 1px dotted black;border-radius: 0.25em;box-sizing: border-box;margin-bottom: 0.5em;}#sk-container-id-8 div.sk-estimator:hover {background-color: #d4ebff;}#sk-container-id-8 div.sk-parallel-item::after {content: \"\";width: 100%;border-bottom: 1px solid gray;flex-grow: 1;}#sk-container-id-8 div.sk-label:hover label.sk-toggleable__label {background-color: #d4ebff;}#sk-container-id-8 div.sk-serial::before {content: \"\";position: absolute;border-left: 1px solid gray;box-sizing: border-box;top: 0;bottom: 0;left: 50%;z-index: 0;}#sk-container-id-8 div.sk-serial {display: flex;flex-direction: column;align-items: center;background-color: white;padding-right: 0.2em;padding-left: 0.2em;position: relative;}#sk-container-id-8 div.sk-item {position: relative;z-index: 1;}#sk-container-id-8 div.sk-parallel {display: flex;align-items: stretch;justify-content: center;background-color: white;position: relative;}#sk-container-id-8 div.sk-item::before, #sk-container-id-8 div.sk-parallel-item::before {content: \"\";position: absolute;border-left: 1px solid gray;box-sizing: border-box;top: 0;bottom: 0;left: 50%;z-index: -1;}#sk-container-id-8 div.sk-parallel-item {display: flex;flex-direction: column;z-index: 1;position: relative;background-color: white;}#sk-container-id-8 div.sk-parallel-item:first-child::after {align-self: flex-end;width: 50%;}#sk-container-id-8 div.sk-parallel-item:last-child::after {align-self: flex-start;width: 50%;}#sk-container-id-8 div.sk-parallel-item:only-child::after {width: 0;}#sk-container-id-8 div.sk-dashed-wrapped {border: 1px dashed gray;margin: 0 0.4em 0.5em 0.4em;box-sizing: border-box;padding-bottom: 0.4em;background-color: white;}#sk-container-id-8 div.sk-label label {font-family: monospace;font-weight: bold;display: inline-block;line-height: 1.2em;}#sk-container-id-8 div.sk-label-container {text-align: center;}#sk-container-id-8 div.sk-container {/* jupyter's `normalize.less` sets `[hidden] { display: none; }` but bootstrap.min.css set `[hidden] { display: none !important; }` so we also need the `!important` here to be able to override the default hidden behavior on the sphinx rendered scikit-learn.org. See: https://github.com/scikit-learn/scikit-learn/issues/21755 */display: inline-block !important;position: relative;}#sk-container-id-8 div.sk-text-repr-fallback {display: none;}</style><div id=\"sk-container-id-8\" class=\"sk-top-container\"><div class=\"sk-text-repr-fallback\"><pre>RandomForestClassifier(criterion=&#x27;entropy&#x27;, random_state=42)</pre><b>In a Jupyter environment, please rerun this cell to show the HTML representation or trust the notebook. <br />On GitHub, the HTML representation is unable to render, please try loading this page with nbviewer.org.</b></div><div class=\"sk-container\" hidden><div class=\"sk-item\"><div class=\"sk-estimator sk-toggleable\"><input class=\"sk-toggleable__control sk-hidden--visually\" id=\"sk-estimator-id-8\" type=\"checkbox\" checked><label for=\"sk-estimator-id-8\" class=\"sk-toggleable__label sk-toggleable__label-arrow\">RandomForestClassifier</label><div class=\"sk-toggleable__content\"><pre>RandomForestClassifier(criterion=&#x27;entropy&#x27;, random_state=42)</pre></div></div></div></div></div>"
      ],
      "text/plain": [
       "RandomForestClassifier(criterion='entropy', random_state=42)"
      ]
     },
     "execution_count": 85,
     "metadata": {},
     "output_type": "execute_result"
    }
   ],
   "source": [
    "clf.fit(x_train,y_train)"
   ]
  },
  {
   "cell_type": "code",
   "execution_count": 86,
   "id": "e689d6be",
   "metadata": {},
   "outputs": [],
   "source": [
    "y_pred=clf.predict(x_test)"
   ]
  },
  {
   "cell_type": "code",
   "execution_count": 87,
   "id": "7100bb41",
   "metadata": {},
   "outputs": [
    {
     "name": "stdout",
     "output_type": "stream",
     "text": [
      "              precision    recall  f1-score   support\n",
      "\n",
      "           0       0.49      0.51      0.50     10008\n",
      "           1       0.49      0.47      0.48      9992\n",
      "\n",
      "    accuracy                           0.49     20000\n",
      "   macro avg       0.49      0.49      0.49     20000\n",
      "weighted avg       0.49      0.49      0.49     20000\n",
      "\n"
     ]
    }
   ],
   "source": [
    "print(classification_report(y_test,y_pred,labels=[0,1]))"
   ]
  },
  {
   "cell_type": "code",
   "execution_count": 88,
   "id": "d6b0ac11",
   "metadata": {},
   "outputs": [],
   "source": [
    "#from sklearn.linear_model import LogisticRegression\n",
    "clf_1 = LogisticRegression(random_state=42)"
   ]
  },
  {
   "cell_type": "code",
   "execution_count": 89,
   "id": "d716c0e7",
   "metadata": {},
   "outputs": [
    {
     "data": {
      "text/html": [
       "<style>#sk-container-id-9 {color: black;background-color: white;}#sk-container-id-9 pre{padding: 0;}#sk-container-id-9 div.sk-toggleable {background-color: white;}#sk-container-id-9 label.sk-toggleable__label {cursor: pointer;display: block;width: 100%;margin-bottom: 0;padding: 0.3em;box-sizing: border-box;text-align: center;}#sk-container-id-9 label.sk-toggleable__label-arrow:before {content: \"▸\";float: left;margin-right: 0.25em;color: #696969;}#sk-container-id-9 label.sk-toggleable__label-arrow:hover:before {color: black;}#sk-container-id-9 div.sk-estimator:hover label.sk-toggleable__label-arrow:before {color: black;}#sk-container-id-9 div.sk-toggleable__content {max-height: 0;max-width: 0;overflow: hidden;text-align: left;background-color: #f0f8ff;}#sk-container-id-9 div.sk-toggleable__content pre {margin: 0.2em;color: black;border-radius: 0.25em;background-color: #f0f8ff;}#sk-container-id-9 input.sk-toggleable__control:checked~div.sk-toggleable__content {max-height: 200px;max-width: 100%;overflow: auto;}#sk-container-id-9 input.sk-toggleable__control:checked~label.sk-toggleable__label-arrow:before {content: \"▾\";}#sk-container-id-9 div.sk-estimator input.sk-toggleable__control:checked~label.sk-toggleable__label {background-color: #d4ebff;}#sk-container-id-9 div.sk-label input.sk-toggleable__control:checked~label.sk-toggleable__label {background-color: #d4ebff;}#sk-container-id-9 input.sk-hidden--visually {border: 0;clip: rect(1px 1px 1px 1px);clip: rect(1px, 1px, 1px, 1px);height: 1px;margin: -1px;overflow: hidden;padding: 0;position: absolute;width: 1px;}#sk-container-id-9 div.sk-estimator {font-family: monospace;background-color: #f0f8ff;border: 1px dotted black;border-radius: 0.25em;box-sizing: border-box;margin-bottom: 0.5em;}#sk-container-id-9 div.sk-estimator:hover {background-color: #d4ebff;}#sk-container-id-9 div.sk-parallel-item::after {content: \"\";width: 100%;border-bottom: 1px solid gray;flex-grow: 1;}#sk-container-id-9 div.sk-label:hover label.sk-toggleable__label {background-color: #d4ebff;}#sk-container-id-9 div.sk-serial::before {content: \"\";position: absolute;border-left: 1px solid gray;box-sizing: border-box;top: 0;bottom: 0;left: 50%;z-index: 0;}#sk-container-id-9 div.sk-serial {display: flex;flex-direction: column;align-items: center;background-color: white;padding-right: 0.2em;padding-left: 0.2em;position: relative;}#sk-container-id-9 div.sk-item {position: relative;z-index: 1;}#sk-container-id-9 div.sk-parallel {display: flex;align-items: stretch;justify-content: center;background-color: white;position: relative;}#sk-container-id-9 div.sk-item::before, #sk-container-id-9 div.sk-parallel-item::before {content: \"\";position: absolute;border-left: 1px solid gray;box-sizing: border-box;top: 0;bottom: 0;left: 50%;z-index: -1;}#sk-container-id-9 div.sk-parallel-item {display: flex;flex-direction: column;z-index: 1;position: relative;background-color: white;}#sk-container-id-9 div.sk-parallel-item:first-child::after {align-self: flex-end;width: 50%;}#sk-container-id-9 div.sk-parallel-item:last-child::after {align-self: flex-start;width: 50%;}#sk-container-id-9 div.sk-parallel-item:only-child::after {width: 0;}#sk-container-id-9 div.sk-dashed-wrapped {border: 1px dashed gray;margin: 0 0.4em 0.5em 0.4em;box-sizing: border-box;padding-bottom: 0.4em;background-color: white;}#sk-container-id-9 div.sk-label label {font-family: monospace;font-weight: bold;display: inline-block;line-height: 1.2em;}#sk-container-id-9 div.sk-label-container {text-align: center;}#sk-container-id-9 div.sk-container {/* jupyter's `normalize.less` sets `[hidden] { display: none; }` but bootstrap.min.css set `[hidden] { display: none !important; }` so we also need the `!important` here to be able to override the default hidden behavior on the sphinx rendered scikit-learn.org. See: https://github.com/scikit-learn/scikit-learn/issues/21755 */display: inline-block !important;position: relative;}#sk-container-id-9 div.sk-text-repr-fallback {display: none;}</style><div id=\"sk-container-id-9\" class=\"sk-top-container\"><div class=\"sk-text-repr-fallback\"><pre>LogisticRegression(random_state=42)</pre><b>In a Jupyter environment, please rerun this cell to show the HTML representation or trust the notebook. <br />On GitHub, the HTML representation is unable to render, please try loading this page with nbviewer.org.</b></div><div class=\"sk-container\" hidden><div class=\"sk-item\"><div class=\"sk-estimator sk-toggleable\"><input class=\"sk-toggleable__control sk-hidden--visually\" id=\"sk-estimator-id-9\" type=\"checkbox\" checked><label for=\"sk-estimator-id-9\" class=\"sk-toggleable__label sk-toggleable__label-arrow\">LogisticRegression</label><div class=\"sk-toggleable__content\"><pre>LogisticRegression(random_state=42)</pre></div></div></div></div></div>"
      ],
      "text/plain": [
       "LogisticRegression(random_state=42)"
      ]
     },
     "execution_count": 89,
     "metadata": {},
     "output_type": "execute_result"
    }
   ],
   "source": [
    "clf_1.fit(x_train,y_train)"
   ]
  },
  {
   "cell_type": "code",
   "execution_count": 90,
   "id": "7141cf23",
   "metadata": {},
   "outputs": [],
   "source": [
    "y_pred_1=clf_1.predict(x_test)"
   ]
  },
  {
   "cell_type": "code",
   "execution_count": 91,
   "id": "6ee13d98",
   "metadata": {},
   "outputs": [
    {
     "name": "stdout",
     "output_type": "stream",
     "text": [
      "              precision    recall  f1-score   support\n",
      "\n",
      "           0       0.50      0.62      0.56     10008\n",
      "           1       0.51      0.39      0.44      9992\n",
      "\n",
      "    accuracy                           0.51     20000\n",
      "   macro avg       0.51      0.50      0.50     20000\n",
      "weighted avg       0.51      0.51      0.50     20000\n",
      "\n"
     ]
    }
   ],
   "source": [
    "print(classification_report(y_test,y_pred_1,labels=[0,1]))"
   ]
  },
  {
   "cell_type": "code",
   "execution_count": null,
   "id": "e7b3ffb7",
   "metadata": {},
   "outputs": [],
   "source": []
  },
  {
   "cell_type": "code",
   "execution_count": 92,
   "id": "ba7b4c9c",
   "metadata": {},
   "outputs": [
    {
     "data": {
      "text/html": [
       "<style>#sk-container-id-10 {color: black;background-color: white;}#sk-container-id-10 pre{padding: 0;}#sk-container-id-10 div.sk-toggleable {background-color: white;}#sk-container-id-10 label.sk-toggleable__label {cursor: pointer;display: block;width: 100%;margin-bottom: 0;padding: 0.3em;box-sizing: border-box;text-align: center;}#sk-container-id-10 label.sk-toggleable__label-arrow:before {content: \"▸\";float: left;margin-right: 0.25em;color: #696969;}#sk-container-id-10 label.sk-toggleable__label-arrow:hover:before {color: black;}#sk-container-id-10 div.sk-estimator:hover label.sk-toggleable__label-arrow:before {color: black;}#sk-container-id-10 div.sk-toggleable__content {max-height: 0;max-width: 0;overflow: hidden;text-align: left;background-color: #f0f8ff;}#sk-container-id-10 div.sk-toggleable__content pre {margin: 0.2em;color: black;border-radius: 0.25em;background-color: #f0f8ff;}#sk-container-id-10 input.sk-toggleable__control:checked~div.sk-toggleable__content {max-height: 200px;max-width: 100%;overflow: auto;}#sk-container-id-10 input.sk-toggleable__control:checked~label.sk-toggleable__label-arrow:before {content: \"▾\";}#sk-container-id-10 div.sk-estimator input.sk-toggleable__control:checked~label.sk-toggleable__label {background-color: #d4ebff;}#sk-container-id-10 div.sk-label input.sk-toggleable__control:checked~label.sk-toggleable__label {background-color: #d4ebff;}#sk-container-id-10 input.sk-hidden--visually {border: 0;clip: rect(1px 1px 1px 1px);clip: rect(1px, 1px, 1px, 1px);height: 1px;margin: -1px;overflow: hidden;padding: 0;position: absolute;width: 1px;}#sk-container-id-10 div.sk-estimator {font-family: monospace;background-color: #f0f8ff;border: 1px dotted black;border-radius: 0.25em;box-sizing: border-box;margin-bottom: 0.5em;}#sk-container-id-10 div.sk-estimator:hover {background-color: #d4ebff;}#sk-container-id-10 div.sk-parallel-item::after {content: \"\";width: 100%;border-bottom: 1px solid gray;flex-grow: 1;}#sk-container-id-10 div.sk-label:hover label.sk-toggleable__label {background-color: #d4ebff;}#sk-container-id-10 div.sk-serial::before {content: \"\";position: absolute;border-left: 1px solid gray;box-sizing: border-box;top: 0;bottom: 0;left: 50%;z-index: 0;}#sk-container-id-10 div.sk-serial {display: flex;flex-direction: column;align-items: center;background-color: white;padding-right: 0.2em;padding-left: 0.2em;position: relative;}#sk-container-id-10 div.sk-item {position: relative;z-index: 1;}#sk-container-id-10 div.sk-parallel {display: flex;align-items: stretch;justify-content: center;background-color: white;position: relative;}#sk-container-id-10 div.sk-item::before, #sk-container-id-10 div.sk-parallel-item::before {content: \"\";position: absolute;border-left: 1px solid gray;box-sizing: border-box;top: 0;bottom: 0;left: 50%;z-index: -1;}#sk-container-id-10 div.sk-parallel-item {display: flex;flex-direction: column;z-index: 1;position: relative;background-color: white;}#sk-container-id-10 div.sk-parallel-item:first-child::after {align-self: flex-end;width: 50%;}#sk-container-id-10 div.sk-parallel-item:last-child::after {align-self: flex-start;width: 50%;}#sk-container-id-10 div.sk-parallel-item:only-child::after {width: 0;}#sk-container-id-10 div.sk-dashed-wrapped {border: 1px dashed gray;margin: 0 0.4em 0.5em 0.4em;box-sizing: border-box;padding-bottom: 0.4em;background-color: white;}#sk-container-id-10 div.sk-label label {font-family: monospace;font-weight: bold;display: inline-block;line-height: 1.2em;}#sk-container-id-10 div.sk-label-container {text-align: center;}#sk-container-id-10 div.sk-container {/* jupyter's `normalize.less` sets `[hidden] { display: none; }` but bootstrap.min.css set `[hidden] { display: none !important; }` so we also need the `!important` here to be able to override the default hidden behavior on the sphinx rendered scikit-learn.org. See: https://github.com/scikit-learn/scikit-learn/issues/21755 */display: inline-block !important;position: relative;}#sk-container-id-10 div.sk-text-repr-fallback {display: none;}</style><div id=\"sk-container-id-10\" class=\"sk-top-container\"><div class=\"sk-text-repr-fallback\"><pre>SVC()</pre><b>In a Jupyter environment, please rerun this cell to show the HTML representation or trust the notebook. <br />On GitHub, the HTML representation is unable to render, please try loading this page with nbviewer.org.</b></div><div class=\"sk-container\" hidden><div class=\"sk-item\"><div class=\"sk-estimator sk-toggleable\"><input class=\"sk-toggleable__control sk-hidden--visually\" id=\"sk-estimator-id-10\" type=\"checkbox\" checked><label for=\"sk-estimator-id-10\" class=\"sk-toggleable__label sk-toggleable__label-arrow\">SVC</label><div class=\"sk-toggleable__content\"><pre>SVC()</pre></div></div></div></div></div>"
      ],
      "text/plain": [
       "SVC()"
      ]
     },
     "execution_count": 92,
     "metadata": {},
     "output_type": "execute_result"
    }
   ],
   "source": [
    "#from sklearn import svm\n",
    "clf_2=svm.SVC()\n",
    "clf_2.fit(x_train,y_train)"
   ]
  },
  {
   "cell_type": "code",
   "execution_count": 93,
   "id": "6fd04a07",
   "metadata": {},
   "outputs": [],
   "source": [
    "y_pred_2=clf_2.predict(x_test)"
   ]
  },
  {
   "cell_type": "code",
   "execution_count": 94,
   "id": "e6fe652d",
   "metadata": {},
   "outputs": [
    {
     "name": "stdout",
     "output_type": "stream",
     "text": [
      "              precision    recall  f1-score   support\n",
      "\n",
      "           0       0.50      0.60      0.55     10008\n",
      "           1       0.50      0.41      0.45      9992\n",
      "\n",
      "    accuracy                           0.50     20000\n",
      "   macro avg       0.50      0.50      0.50     20000\n",
      "weighted avg       0.50      0.50      0.50     20000\n",
      "\n"
     ]
    }
   ],
   "source": [
    "print(classification_report(y_test,y_pred_2,labels=[0,1]))"
   ]
  },
  {
   "cell_type": "code",
   "execution_count": null,
   "id": "48a44826",
   "metadata": {},
   "outputs": [],
   "source": []
  },
  {
   "cell_type": "code",
   "execution_count": 95,
   "id": "1e90d390",
   "metadata": {},
   "outputs": [],
   "source": [
    "#from sklearn.naive_bayes import GaussianNB\n",
    "clf_3=GaussianNB()"
   ]
  },
  {
   "cell_type": "code",
   "execution_count": 96,
   "id": "037768af",
   "metadata": {},
   "outputs": [],
   "source": [
    "clf_3.fit(x_train,y_train)\n",
    "y_pred_3=clf_3.predict(x_test)"
   ]
  },
  {
   "cell_type": "code",
   "execution_count": 97,
   "id": "6730ff2e",
   "metadata": {},
   "outputs": [
    {
     "name": "stdout",
     "output_type": "stream",
     "text": [
      "              precision    recall  f1-score   support\n",
      "\n",
      "           0       0.50      0.58      0.54     10008\n",
      "           1       0.50      0.42      0.46      9992\n",
      "\n",
      "    accuracy                           0.50     20000\n",
      "   macro avg       0.50      0.50      0.50     20000\n",
      "weighted avg       0.50      0.50      0.50     20000\n",
      "\n"
     ]
    }
   ],
   "source": [
    "print(classification_report(y_test,y_pred_3,labels=[0,1]))"
   ]
  },
  {
   "cell_type": "code",
   "execution_count": null,
   "id": "c4bf1d6c",
   "metadata": {},
   "outputs": [],
   "source": []
  },
  {
   "cell_type": "code",
   "execution_count": 215,
   "id": "c8fee134",
   "metadata": {},
   "outputs": [
    {
     "data": {
      "text/plain": [
       "numpy.ndarray"
      ]
     },
     "execution_count": 215,
     "metadata": {},
     "output_type": "execute_result"
    }
   ],
   "source": [
    "type(x_train.values)"
   ]
  },
  {
   "cell_type": "code",
   "execution_count": null,
   "id": "04b47d72",
   "metadata": {},
   "outputs": [],
   "source": []
  },
  {
   "cell_type": "code",
   "execution_count": null,
   "id": "5619ceb2",
   "metadata": {},
   "outputs": [],
   "source": []
  },
  {
   "cell_type": "code",
   "execution_count": 224,
   "id": "a0710af5",
   "metadata": {},
   "outputs": [],
   "source": [
    "import torch\n",
    "from torch import nn\n",
    "\n"
   ]
  },
  {
   "cell_type": "code",
   "execution_count": 229,
   "id": "3ae948cd",
   "metadata": {},
   "outputs": [],
   "source": [
    "x_train=torch.from_numpy(x_train.values).type(torch.float).to(\"cuda\")\n",
    "y_train=torch.from_numpy(y_train.values).type(torch.LongTensor).to(\"cuda\")"
   ]
  },
  {
   "cell_type": "code",
   "execution_count": 230,
   "id": "636af582",
   "metadata": {},
   "outputs": [
    {
     "data": {
      "text/plain": [
       "'torch.cuda.LongTensor'"
      ]
     },
     "execution_count": 230,
     "metadata": {},
     "output_type": "execute_result"
    }
   ],
   "source": [
    "y_train.type()"
   ]
  },
  {
   "cell_type": "code",
   "execution_count": 239,
   "id": "72cf9784",
   "metadata": {},
   "outputs": [],
   "source": [
    "class clfmodel(nn.Module):\n",
    "    def __init__(self):\n",
    "        super().__init__()\n",
    "        self.model= nn.Sequential(\n",
    "            nn.Linear(in_features=11,out_features=11),\n",
    "            nn.ReLU(),\n",
    "            nn.Linear(in_features=11,out_features=11),\n",
    "            nn.ReLU(),\n",
    "            nn.Linear(in_features=11,out_features=11),\n",
    "            nn.ReLU(),\n",
    "            nn.Linear(in_features=11,out_features=2),\n",
    "            \n",
    "            \n",
    "        )\n",
    "\n",
    "\n",
    "    def forward(self,x):\n",
    "        return self.model(x)\n",
    "\n",
    "model_4=clfmodel().to(device)"
   ]
  },
  {
   "cell_type": "code",
   "execution_count": 232,
   "id": "82383a5f",
   "metadata": {},
   "outputs": [
    {
     "data": {
      "text/plain": [
       "(torch.Size([80000, 11]), torch.Size([80000]))"
      ]
     },
     "execution_count": 232,
     "metadata": {},
     "output_type": "execute_result"
    }
   ],
   "source": [
    "x_train.shape,y_train.shape"
   ]
  },
  {
   "cell_type": "code",
   "execution_count": 233,
   "id": "dc83c839",
   "metadata": {},
   "outputs": [
    {
     "data": {
      "text/plain": [
       "tensor([0, 1], device='cuda:0')"
      ]
     },
     "execution_count": 233,
     "metadata": {},
     "output_type": "execute_result"
    }
   ],
   "source": [
    "torch.unique(y_train)"
   ]
  },
  {
   "cell_type": "code",
   "execution_count": 240,
   "id": "d6571a9f",
   "metadata": {},
   "outputs": [],
   "source": [
    "loss_fn=nn.CrossEntropyLoss()\n",
    "\n",
    "optimizer=torch.optim.SGD(params=model_4.parameters(),\n",
    "                          lr=0.1)"
   ]
  },
  {
   "cell_type": "code",
   "execution_count": 241,
   "id": "dc0921a9",
   "metadata": {},
   "outputs": [
    {
     "data": {
      "text/plain": [
       "device(type='cuda', index=0)"
      ]
     },
     "execution_count": 241,
     "metadata": {},
     "output_type": "execute_result"
    }
   ],
   "source": [
    "next(model_4.parameters()).device"
   ]
  },
  {
   "cell_type": "code",
   "execution_count": 237,
   "id": "77962c84",
   "metadata": {},
   "outputs": [],
   "source": [
    "x_test=torch.from_numpy(x_test.values).type(torch.float).to(\"cuda\")\n",
    "y_test=torch.from_numpy(y_test.values).type(torch.LongTensor).to(\"cuda\")"
   ]
  },
  {
   "cell_type": "code",
   "execution_count": 238,
   "id": "aa96556d",
   "metadata": {},
   "outputs": [
    {
     "data": {
      "text/plain": [
       "(device(type='cuda', index=0),\n",
       " device(type='cuda', index=0),\n",
       " device(type='cuda', index=0),\n",
       " device(type='cuda', index=0),\n",
       " 'torch.cuda.FloatTensor',\n",
       " 'torch.cuda.FloatTensor',\n",
       " 'torch.cuda.LongTensor',\n",
       " 'torch.cuda.LongTensor')"
      ]
     },
     "execution_count": 238,
     "metadata": {},
     "output_type": "execute_result"
    }
   ],
   "source": [
    "x_test.device,x_train.device,y_train.device,y_test.device,x_test.type(),x_train.type(),y_train.type(), y_test.type()"
   ]
  },
  {
   "cell_type": "code",
   "execution_count": 242,
   "id": "1876f3a5",
   "metadata": {},
   "outputs": [],
   "source": [
    "def accuracy_fn(y_true,y_pred):\n",
    "    correct=torch.eq(y_true,y_pred).sum().item()\n",
    "    acc=(correct/len(y_pred))*100\n",
    "    return acc"
   ]
  },
  {
   "cell_type": "code",
   "execution_count": 246,
   "id": "6d5ed6fb",
   "metadata": {
    "collapsed": true
   },
   "outputs": [
    {
     "name": "stdout",
     "output_type": "stream",
     "text": [
      "epoch :0 | loss:0.6931 , acc :50.36 | testloss :0.6931 | test_acc: 49.9600\n",
      "epoch :10 | loss:0.6931 , acc :50.34 | testloss :0.6931 | test_acc: 50.0150\n",
      "epoch :20 | loss:0.6931 , acc :50.34 | testloss :0.6931 | test_acc: 50.0250\n",
      "epoch :30 | loss:0.6931 , acc :50.34 | testloss :0.6931 | test_acc: 50.0500\n",
      "epoch :40 | loss:0.6931 , acc :50.33 | testloss :0.6931 | test_acc: 50.0350\n",
      "epoch :50 | loss:0.6931 , acc :50.33 | testloss :0.6931 | test_acc: 50.0800\n",
      "epoch :60 | loss:0.6931 , acc :50.33 | testloss :0.6931 | test_acc: 50.0850\n",
      "epoch :70 | loss:0.6931 , acc :50.35 | testloss :0.6931 | test_acc: 50.1250\n",
      "epoch :80 | loss:0.6931 , acc :50.35 | testloss :0.6931 | test_acc: 50.1550\n",
      "epoch :90 | loss:0.6931 , acc :50.34 | testloss :0.6931 | test_acc: 50.1500\n",
      "epoch :100 | loss:0.6931 , acc :50.32 | testloss :0.6931 | test_acc: 50.1650\n",
      "epoch :110 | loss:0.6931 , acc :50.31 | testloss :0.6931 | test_acc: 50.2100\n",
      "epoch :120 | loss:0.6931 , acc :50.30 | testloss :0.6931 | test_acc: 50.2100\n",
      "epoch :130 | loss:0.6931 , acc :50.30 | testloss :0.6931 | test_acc: 50.2350\n",
      "epoch :140 | loss:0.6931 , acc :50.33 | testloss :0.6931 | test_acc: 50.2600\n",
      "epoch :150 | loss:0.6931 , acc :50.36 | testloss :0.6931 | test_acc: 50.2800\n",
      "epoch :160 | loss:0.6931 , acc :50.37 | testloss :0.6931 | test_acc: 50.2750\n",
      "epoch :170 | loss:0.6931 , acc :50.36 | testloss :0.6931 | test_acc: 50.2550\n",
      "epoch :180 | loss:0.6931 , acc :50.36 | testloss :0.6931 | test_acc: 50.2650\n",
      "epoch :190 | loss:0.6931 , acc :50.37 | testloss :0.6931 | test_acc: 50.2250\n",
      "epoch :200 | loss:0.6931 , acc :50.36 | testloss :0.6931 | test_acc: 50.2400\n",
      "epoch :210 | loss:0.6931 , acc :50.37 | testloss :0.6931 | test_acc: 50.2050\n",
      "epoch :220 | loss:0.6931 , acc :50.36 | testloss :0.6931 | test_acc: 50.2000\n",
      "epoch :230 | loss:0.6931 , acc :50.37 | testloss :0.6931 | test_acc: 50.1950\n",
      "epoch :240 | loss:0.6931 , acc :50.38 | testloss :0.6931 | test_acc: 50.2100\n",
      "epoch :250 | loss:0.6931 , acc :50.37 | testloss :0.6931 | test_acc: 50.2050\n",
      "epoch :260 | loss:0.6931 , acc :50.38 | testloss :0.6931 | test_acc: 50.2150\n",
      "epoch :270 | loss:0.6931 , acc :50.39 | testloss :0.6931 | test_acc: 50.2000\n",
      "epoch :280 | loss:0.6931 , acc :50.38 | testloss :0.6931 | test_acc: 50.2150\n",
      "epoch :290 | loss:0.6931 , acc :50.37 | testloss :0.6931 | test_acc: 50.2250\n",
      "epoch :300 | loss:0.6931 , acc :50.37 | testloss :0.6931 | test_acc: 50.2500\n",
      "epoch :310 | loss:0.6931 , acc :50.35 | testloss :0.6931 | test_acc: 50.2350\n",
      "epoch :320 | loss:0.6931 , acc :50.36 | testloss :0.6931 | test_acc: 50.1750\n",
      "epoch :330 | loss:0.6931 , acc :50.34 | testloss :0.6931 | test_acc: 50.2000\n",
      "epoch :340 | loss:0.6931 , acc :50.36 | testloss :0.6931 | test_acc: 50.2100\n",
      "epoch :350 | loss:0.6931 , acc :50.36 | testloss :0.6931 | test_acc: 50.1750\n",
      "epoch :360 | loss:0.6931 , acc :50.39 | testloss :0.6931 | test_acc: 50.1500\n",
      "epoch :370 | loss:0.6931 , acc :50.38 | testloss :0.6931 | test_acc: 50.1600\n",
      "epoch :380 | loss:0.6931 , acc :50.36 | testloss :0.6931 | test_acc: 50.1750\n",
      "epoch :390 | loss:0.6931 , acc :50.36 | testloss :0.6931 | test_acc: 50.1300\n",
      "epoch :400 | loss:0.6931 , acc :50.37 | testloss :0.6931 | test_acc: 50.1500\n",
      "epoch :410 | loss:0.6931 , acc :50.36 | testloss :0.6931 | test_acc: 50.1600\n",
      "epoch :420 | loss:0.6931 , acc :50.35 | testloss :0.6931 | test_acc: 50.1500\n",
      "epoch :430 | loss:0.6931 , acc :50.36 | testloss :0.6931 | test_acc: 50.1500\n",
      "epoch :440 | loss:0.6931 , acc :50.37 | testloss :0.6931 | test_acc: 50.1400\n",
      "epoch :450 | loss:0.6931 , acc :50.37 | testloss :0.6931 | test_acc: 50.1100\n",
      "epoch :460 | loss:0.6931 , acc :50.36 | testloss :0.6931 | test_acc: 50.0950\n",
      "epoch :470 | loss:0.6931 , acc :50.34 | testloss :0.6931 | test_acc: 50.0900\n",
      "epoch :480 | loss:0.6931 , acc :50.38 | testloss :0.6931 | test_acc: 50.1100\n",
      "epoch :490 | loss:0.6931 , acc :50.38 | testloss :0.6931 | test_acc: 50.1200\n",
      "epoch :500 | loss:0.6931 , acc :50.38 | testloss :0.6931 | test_acc: 50.1750\n",
      "epoch :510 | loss:0.6931 , acc :50.38 | testloss :0.6931 | test_acc: 50.1950\n",
      "epoch :520 | loss:0.6931 , acc :50.40 | testloss :0.6931 | test_acc: 50.1600\n",
      "epoch :530 | loss:0.6931 , acc :50.42 | testloss :0.6931 | test_acc: 50.1250\n",
      "epoch :540 | loss:0.6931 , acc :50.43 | testloss :0.6931 | test_acc: 50.1050\n",
      "epoch :550 | loss:0.6931 , acc :50.42 | testloss :0.6931 | test_acc: 50.0600\n",
      "epoch :560 | loss:0.6931 , acc :50.42 | testloss :0.6931 | test_acc: 50.0800\n",
      "epoch :570 | loss:0.6931 , acc :50.42 | testloss :0.6931 | test_acc: 50.0750\n",
      "epoch :580 | loss:0.6931 , acc :50.43 | testloss :0.6931 | test_acc: 50.0650\n",
      "epoch :590 | loss:0.6931 , acc :50.44 | testloss :0.6931 | test_acc: 50.0600\n",
      "epoch :600 | loss:0.6931 , acc :50.45 | testloss :0.6931 | test_acc: 50.0400\n",
      "epoch :610 | loss:0.6931 , acc :50.48 | testloss :0.6931 | test_acc: 50.0300\n",
      "epoch :620 | loss:0.6931 , acc :50.47 | testloss :0.6931 | test_acc: 50.0100\n",
      "epoch :630 | loss:0.6931 , acc :50.46 | testloss :0.6931 | test_acc: 50.0500\n",
      "epoch :640 | loss:0.6931 , acc :50.47 | testloss :0.6931 | test_acc: 50.0300\n",
      "epoch :650 | loss:0.6931 , acc :50.46 | testloss :0.6931 | test_acc: 50.0550\n",
      "epoch :660 | loss:0.6931 , acc :50.46 | testloss :0.6931 | test_acc: 50.0800\n",
      "epoch :670 | loss:0.6931 , acc :50.47 | testloss :0.6931 | test_acc: 50.0950\n",
      "epoch :680 | loss:0.6931 , acc :50.48 | testloss :0.6931 | test_acc: 50.0800\n",
      "epoch :690 | loss:0.6931 , acc :50.52 | testloss :0.6931 | test_acc: 50.0950\n",
      "epoch :700 | loss:0.6931 , acc :50.53 | testloss :0.6931 | test_acc: 50.0650\n",
      "epoch :710 | loss:0.6931 , acc :50.54 | testloss :0.6931 | test_acc: 50.0800\n",
      "epoch :720 | loss:0.6931 , acc :50.55 | testloss :0.6931 | test_acc: 50.1100\n",
      "epoch :730 | loss:0.6931 , acc :50.54 | testloss :0.6931 | test_acc: 50.1200\n",
      "epoch :740 | loss:0.6931 , acc :50.54 | testloss :0.6931 | test_acc: 50.1000\n",
      "epoch :750 | loss:0.6931 , acc :50.53 | testloss :0.6931 | test_acc: 50.1050\n",
      "epoch :760 | loss:0.6931 , acc :50.54 | testloss :0.6931 | test_acc: 50.1300\n",
      "epoch :770 | loss:0.6931 , acc :50.53 | testloss :0.6931 | test_acc: 50.1500\n",
      "epoch :780 | loss:0.6931 , acc :50.52 | testloss :0.6931 | test_acc: 50.1600\n",
      "epoch :790 | loss:0.6931 , acc :50.53 | testloss :0.6931 | test_acc: 50.1750\n",
      "epoch :800 | loss:0.6931 , acc :50.52 | testloss :0.6931 | test_acc: 50.2050\n",
      "epoch :810 | loss:0.6931 , acc :50.53 | testloss :0.6931 | test_acc: 50.1950\n",
      "epoch :820 | loss:0.6931 , acc :50.53 | testloss :0.6931 | test_acc: 50.1900\n",
      "epoch :830 | loss:0.6931 , acc :50.54 | testloss :0.6931 | test_acc: 50.1650\n",
      "epoch :840 | loss:0.6931 , acc :50.54 | testloss :0.6931 | test_acc: 50.1650\n",
      "epoch :850 | loss:0.6931 , acc :50.56 | testloss :0.6931 | test_acc: 50.1350\n",
      "epoch :860 | loss:0.6931 , acc :50.56 | testloss :0.6931 | test_acc: 50.1550\n",
      "epoch :870 | loss:0.6931 , acc :50.57 | testloss :0.6931 | test_acc: 50.1250\n",
      "epoch :880 | loss:0.6931 , acc :50.57 | testloss :0.6931 | test_acc: 50.1300\n",
      "epoch :890 | loss:0.6931 , acc :50.58 | testloss :0.6931 | test_acc: 50.1050\n",
      "epoch :900 | loss:0.6931 , acc :50.58 | testloss :0.6931 | test_acc: 50.0900\n",
      "epoch :910 | loss:0.6931 , acc :50.59 | testloss :0.6931 | test_acc: 50.1000\n",
      "epoch :920 | loss:0.6931 , acc :50.58 | testloss :0.6931 | test_acc: 50.0900\n",
      "epoch :930 | loss:0.6931 , acc :50.58 | testloss :0.6931 | test_acc: 50.0800\n",
      "epoch :940 | loss:0.6931 , acc :50.58 | testloss :0.6931 | test_acc: 50.0650\n",
      "epoch :950 | loss:0.6931 , acc :50.59 | testloss :0.6931 | test_acc: 50.0800\n",
      "epoch :960 | loss:0.6931 , acc :50.58 | testloss :0.6931 | test_acc: 50.0500\n",
      "epoch :970 | loss:0.6931 , acc :50.58 | testloss :0.6931 | test_acc: 50.0800\n",
      "epoch :980 | loss:0.6931 , acc :50.58 | testloss :0.6931 | test_acc: 50.0550\n",
      "epoch :990 | loss:0.6931 , acc :50.57 | testloss :0.6931 | test_acc: 50.0700\n"
     ]
    }
   ],
   "source": [
    "torch.manual_seed(42)\n",
    "torch.cuda.manual_seed(42)\n",
    "\n",
    "epochs=1000\n",
    "\n",
    "\n",
    "x_train,y_train=x_train.to(device),y_train.to(device)\n",
    "x_test,y_test=x_test.to(device),y_test.to(device)\n",
    "\n",
    "\n",
    "\n",
    "\n",
    "\n",
    "for epoch in range(epochs):\n",
    "    model_4.train()\n",
    "    y_logits=model_4(x_train)\n",
    "    y_pred=torch.softmax(y_logits, dim=1).argmax(dim=1)\n",
    "\n",
    "    loss=loss_fn(y_logits,y_train)\n",
    "    acc=accuracy_fn(y_true=y_train,\n",
    "                    y_pred=y_pred)\n",
    "\n",
    "    optimizer.zero_grad()\n",
    "    loss.backward()\n",
    "    optimizer.step()\n",
    "\n",
    "\n",
    "    model_4.eval()\n",
    "    with torch.inference_mode():\n",
    "        test_logits=model_4(x_test)\n",
    "\n",
    "        test_preds=torch.softmax(test_logits,dim=1).argmax(dim=1)\n",
    "\n",
    "        test_loss=loss_fn(test_logits,y_test)\n",
    "        test_acc=accuracy_fn(y_true=y_test,\n",
    "                             y_pred=test_preds)\n",
    "\n",
    "\n",
    "        if epoch%10==0:\n",
    "            print(f\"epoch :{epoch} | loss:{loss:.4f} , acc :{acc:.2f} | testloss :{test_loss:.4f} | test_acc: {test_acc:.4f}\")\n"
   ]
  },
  {
   "cell_type": "code",
   "execution_count": null,
   "id": "82908004",
   "metadata": {},
   "outputs": [],
   "source": []
  }
 ],
 "metadata": {
  "kernelspec": {
   "display_name": "Python 3 (ipykernel)",
   "language": "python",
   "name": "python3"
  },
  "language_info": {
   "codemirror_mode": {
    "name": "ipython",
    "version": 3
   },
   "file_extension": ".py",
   "mimetype": "text/x-python",
   "name": "python",
   "nbconvert_exporter": "python",
   "pygments_lexer": "ipython3",
   "version": "3.10.9"
  }
 },
 "nbformat": 4,
 "nbformat_minor": 5
}
