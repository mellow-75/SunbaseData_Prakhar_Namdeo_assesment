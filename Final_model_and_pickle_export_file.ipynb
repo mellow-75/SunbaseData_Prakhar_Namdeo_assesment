{
 "cells": [
  {
   "cell_type": "code",
   "execution_count": 1,
   "id": "8bdb5857",
   "metadata": {},
   "outputs": [],
   "source": [
    "import pandas as pd\n",
    "import numpy as np"
   ]
  },
  {
   "cell_type": "code",
   "execution_count": 2,
   "id": "67d1dada",
   "metadata": {},
   "outputs": [],
   "source": [
    "df=pd.read_csv(\"C:\\\\Users\\\\Prakhar\\\\Desktop\\\\new.csv\")"
   ]
  },
  {
   "cell_type": "code",
   "execution_count": 3,
   "id": "0b921916",
   "metadata": {},
   "outputs": [
    {
     "data": {
      "text/html": [
       "<div>\n",
       "<style scoped>\n",
       "    .dataframe tbody tr th:only-of-type {\n",
       "        vertical-align: middle;\n",
       "    }\n",
       "\n",
       "    .dataframe tbody tr th {\n",
       "        vertical-align: top;\n",
       "    }\n",
       "\n",
       "    .dataframe thead th {\n",
       "        text-align: right;\n",
       "    }\n",
       "</style>\n",
       "<table border=\"1\" class=\"dataframe\">\n",
       "  <thead>\n",
       "    <tr style=\"text-align: right;\">\n",
       "      <th></th>\n",
       "      <th>Unnamed: 0</th>\n",
       "      <th>Age</th>\n",
       "      <th>Subscription_Length_Months</th>\n",
       "      <th>Monthly_Bill</th>\n",
       "      <th>Total_Usage_GB</th>\n",
       "      <th>Churn</th>\n",
       "      <th>Female</th>\n",
       "      <th>Male</th>\n",
       "      <th>Chicago</th>\n",
       "      <th>Houston</th>\n",
       "      <th>Los Angeles</th>\n",
       "      <th>Miami</th>\n",
       "      <th>New York</th>\n",
       "    </tr>\n",
       "  </thead>\n",
       "  <tbody>\n",
       "    <tr>\n",
       "      <th>0</th>\n",
       "      <td>0</td>\n",
       "      <td>63</td>\n",
       "      <td>17</td>\n",
       "      <td>73.36</td>\n",
       "      <td>236</td>\n",
       "      <td>0</td>\n",
       "      <td>0</td>\n",
       "      <td>1</td>\n",
       "      <td>0.0</td>\n",
       "      <td>0.0</td>\n",
       "      <td>1.0</td>\n",
       "      <td>0.0</td>\n",
       "      <td>0.0</td>\n",
       "    </tr>\n",
       "    <tr>\n",
       "      <th>1</th>\n",
       "      <td>1</td>\n",
       "      <td>62</td>\n",
       "      <td>1</td>\n",
       "      <td>48.76</td>\n",
       "      <td>172</td>\n",
       "      <td>0</td>\n",
       "      <td>1</td>\n",
       "      <td>0</td>\n",
       "      <td>0.0</td>\n",
       "      <td>0.0</td>\n",
       "      <td>0.0</td>\n",
       "      <td>0.0</td>\n",
       "      <td>1.0</td>\n",
       "    </tr>\n",
       "    <tr>\n",
       "      <th>2</th>\n",
       "      <td>2</td>\n",
       "      <td>24</td>\n",
       "      <td>5</td>\n",
       "      <td>85.47</td>\n",
       "      <td>460</td>\n",
       "      <td>0</td>\n",
       "      <td>1</td>\n",
       "      <td>0</td>\n",
       "      <td>0.0</td>\n",
       "      <td>0.0</td>\n",
       "      <td>1.0</td>\n",
       "      <td>0.0</td>\n",
       "      <td>0.0</td>\n",
       "    </tr>\n",
       "    <tr>\n",
       "      <th>3</th>\n",
       "      <td>3</td>\n",
       "      <td>36</td>\n",
       "      <td>3</td>\n",
       "      <td>97.94</td>\n",
       "      <td>297</td>\n",
       "      <td>1</td>\n",
       "      <td>1</td>\n",
       "      <td>0</td>\n",
       "      <td>0.0</td>\n",
       "      <td>0.0</td>\n",
       "      <td>0.0</td>\n",
       "      <td>1.0</td>\n",
       "      <td>0.0</td>\n",
       "    </tr>\n",
       "    <tr>\n",
       "      <th>4</th>\n",
       "      <td>4</td>\n",
       "      <td>46</td>\n",
       "      <td>19</td>\n",
       "      <td>58.14</td>\n",
       "      <td>266</td>\n",
       "      <td>0</td>\n",
       "      <td>1</td>\n",
       "      <td>0</td>\n",
       "      <td>0.0</td>\n",
       "      <td>0.0</td>\n",
       "      <td>0.0</td>\n",
       "      <td>1.0</td>\n",
       "      <td>0.0</td>\n",
       "    </tr>\n",
       "  </tbody>\n",
       "</table>\n",
       "</div>"
      ],
      "text/plain": [
       "   Unnamed: 0  Age  Subscription_Length_Months  Monthly_Bill  Total_Usage_GB  \\\n",
       "0           0   63                          17         73.36             236   \n",
       "1           1   62                           1         48.76             172   \n",
       "2           2   24                           5         85.47             460   \n",
       "3           3   36                           3         97.94             297   \n",
       "4           4   46                          19         58.14             266   \n",
       "\n",
       "   Churn  Female  Male  Chicago  Houston  Los Angeles  Miami  New York  \n",
       "0      0       0     1      0.0      0.0          1.0    0.0       0.0  \n",
       "1      0       1     0      0.0      0.0          0.0    0.0       1.0  \n",
       "2      0       1     0      0.0      0.0          1.0    0.0       0.0  \n",
       "3      1       1     0      0.0      0.0          0.0    1.0       0.0  \n",
       "4      0       1     0      0.0      0.0          0.0    1.0       0.0  "
      ]
     },
     "execution_count": 3,
     "metadata": {},
     "output_type": "execute_result"
    }
   ],
   "source": [
    "df.head()"
   ]
  },
  {
   "cell_type": "code",
   "execution_count": 5,
   "id": "def9b4f4",
   "metadata": {},
   "outputs": [],
   "source": [
    "x=df.drop(\"Churn\",axis=1)"
   ]
  },
  {
   "cell_type": "code",
   "execution_count": 6,
   "id": "04c56e2e",
   "metadata": {},
   "outputs": [],
   "source": [
    "y=df[\"Churn\"]"
   ]
  },
  {
   "cell_type": "code",
   "execution_count": 7,
   "id": "a154cf07",
   "metadata": {},
   "outputs": [],
   "source": [
    "from sklearn import metrics \n",
    "from sklearn.model_selection import train_test_split\n",
    "from sklearn.metrics import recall_score\n",
    "from sklearn.metrics import classification_report\n",
    "from sklearn.metrics import confusion_matrix"
   ]
  },
  {
   "cell_type": "code",
   "execution_count": 8,
   "id": "fde52a9e",
   "metadata": {},
   "outputs": [],
   "source": [
    "from sklearn.preprocessing import StandardScaler"
   ]
  },
  {
   "cell_type": "code",
   "execution_count": 9,
   "id": "a479a209",
   "metadata": {},
   "outputs": [
    {
     "data": {
      "text/plain": [
       "['Unnamed: 0',\n",
       " 'Age',\n",
       " 'Subscription_Length_Months',\n",
       " 'Monthly_Bill',\n",
       " 'Total_Usage_GB',\n",
       " 'Female',\n",
       " 'Male',\n",
       " 'Chicago',\n",
       " 'Houston',\n",
       " 'Los Angeles',\n",
       " 'Miami',\n",
       " 'New York']"
      ]
     },
     "execution_count": 9,
     "metadata": {},
     "output_type": "execute_result"
    }
   ],
   "source": [
    "my_list=list(x)\n",
    "my_list"
   ]
  },
  {
   "cell_type": "code",
   "execution_count": 10,
   "id": "769c2ffc",
   "metadata": {},
   "outputs": [
    {
     "data": {
      "text/html": [
       "<div>\n",
       "<style scoped>\n",
       "    .dataframe tbody tr th:only-of-type {\n",
       "        vertical-align: middle;\n",
       "    }\n",
       "\n",
       "    .dataframe tbody tr th {\n",
       "        vertical-align: top;\n",
       "    }\n",
       "\n",
       "    .dataframe thead th {\n",
       "        text-align: right;\n",
       "    }\n",
       "</style>\n",
       "<table border=\"1\" class=\"dataframe\">\n",
       "  <thead>\n",
       "    <tr style=\"text-align: right;\">\n",
       "      <th></th>\n",
       "      <th>Unnamed: 0</th>\n",
       "      <th>Age</th>\n",
       "      <th>Subscription_Length_Months</th>\n",
       "      <th>Monthly_Bill</th>\n",
       "      <th>Total_Usage_GB</th>\n",
       "      <th>Female</th>\n",
       "      <th>Male</th>\n",
       "      <th>Chicago</th>\n",
       "      <th>Houston</th>\n",
       "      <th>Los Angeles</th>\n",
       "      <th>Miami</th>\n",
       "      <th>New York</th>\n",
       "    </tr>\n",
       "  </thead>\n",
       "  <tbody>\n",
       "    <tr>\n",
       "      <th>0</th>\n",
       "      <td>-1.732033</td>\n",
       "      <td>1.241670</td>\n",
       "      <td>0.651115</td>\n",
       "      <td>0.410606</td>\n",
       "      <td>-0.294289</td>\n",
       "      <td>-1.004329</td>\n",
       "      <td>1.004329</td>\n",
       "      <td>-0.499344</td>\n",
       "      <td>-0.502452</td>\n",
       "      <td>1.997441</td>\n",
       "      <td>-0.500484</td>\n",
       "      <td>-0.497076</td>\n",
       "    </tr>\n",
       "    <tr>\n",
       "      <th>1</th>\n",
       "      <td>-1.731999</td>\n",
       "      <td>1.176226</td>\n",
       "      <td>-1.658879</td>\n",
       "      <td>-0.805374</td>\n",
       "      <td>-0.784852</td>\n",
       "      <td>0.995689</td>\n",
       "      <td>-0.995689</td>\n",
       "      <td>-0.499344</td>\n",
       "      <td>-0.502452</td>\n",
       "      <td>-0.500641</td>\n",
       "      <td>-0.500484</td>\n",
       "      <td>2.011763</td>\n",
       "    </tr>\n",
       "    <tr>\n",
       "      <th>2</th>\n",
       "      <td>-1.731964</td>\n",
       "      <td>-1.310651</td>\n",
       "      <td>-1.081380</td>\n",
       "      <td>1.009204</td>\n",
       "      <td>1.422681</td>\n",
       "      <td>0.995689</td>\n",
       "      <td>-0.995689</td>\n",
       "      <td>-0.499344</td>\n",
       "      <td>-0.502452</td>\n",
       "      <td>1.997441</td>\n",
       "      <td>-0.500484</td>\n",
       "      <td>-0.497076</td>\n",
       "    </tr>\n",
       "    <tr>\n",
       "      <th>3</th>\n",
       "      <td>-1.731930</td>\n",
       "      <td>-0.525321</td>\n",
       "      <td>-1.370129</td>\n",
       "      <td>1.625597</td>\n",
       "      <td>0.173279</td>\n",
       "      <td>0.995689</td>\n",
       "      <td>-0.995689</td>\n",
       "      <td>-0.499344</td>\n",
       "      <td>-0.502452</td>\n",
       "      <td>-0.500641</td>\n",
       "      <td>1.998065</td>\n",
       "      <td>-0.497076</td>\n",
       "    </tr>\n",
       "    <tr>\n",
       "      <th>4</th>\n",
       "      <td>-1.731895</td>\n",
       "      <td>0.129120</td>\n",
       "      <td>0.939864</td>\n",
       "      <td>-0.341720</td>\n",
       "      <td>-0.064338</td>\n",
       "      <td>0.995689</td>\n",
       "      <td>-0.995689</td>\n",
       "      <td>-0.499344</td>\n",
       "      <td>-0.502452</td>\n",
       "      <td>-0.500641</td>\n",
       "      <td>1.998065</td>\n",
       "      <td>-0.497076</td>\n",
       "    </tr>\n",
       "  </tbody>\n",
       "</table>\n",
       "</div>"
      ],
      "text/plain": [
       "   Unnamed: 0       Age  Subscription_Length_Months  Monthly_Bill  \\\n",
       "0   -1.732033  1.241670                    0.651115      0.410606   \n",
       "1   -1.731999  1.176226                   -1.658879     -0.805374   \n",
       "2   -1.731964 -1.310651                   -1.081380      1.009204   \n",
       "3   -1.731930 -0.525321                   -1.370129      1.625597   \n",
       "4   -1.731895  0.129120                    0.939864     -0.341720   \n",
       "\n",
       "   Total_Usage_GB    Female      Male   Chicago   Houston  Los Angeles  \\\n",
       "0       -0.294289 -1.004329  1.004329 -0.499344 -0.502452     1.997441   \n",
       "1       -0.784852  0.995689 -0.995689 -0.499344 -0.502452    -0.500641   \n",
       "2        1.422681  0.995689 -0.995689 -0.499344 -0.502452     1.997441   \n",
       "3        0.173279  0.995689 -0.995689 -0.499344 -0.502452    -0.500641   \n",
       "4       -0.064338  0.995689 -0.995689 -0.499344 -0.502452    -0.500641   \n",
       "\n",
       "      Miami  New York  \n",
       "0 -0.500484 -0.497076  \n",
       "1 -0.500484  2.011763  \n",
       "2 -0.500484 -0.497076  \n",
       "3  1.998065 -0.497076  \n",
       "4  1.998065 -0.497076  "
      ]
     },
     "execution_count": 10,
     "metadata": {},
     "output_type": "execute_result"
    }
   ],
   "source": [
    "scaler = StandardScaler()\n",
    "x_scaled=pd.DataFrame(scaler.fit_transform(x),columns=my_list)\n",
    "x_scaled.head()"
   ]
  },
  {
   "cell_type": "code",
   "execution_count": 11,
   "id": "a7c911c9",
   "metadata": {},
   "outputs": [],
   "source": [
    "x_train,x_test,y_train,y_test=train_test_split(x_scaled,y,test_size=0.2)"
   ]
  },
  {
   "cell_type": "code",
   "execution_count": 12,
   "id": "5e70a66f",
   "metadata": {},
   "outputs": [],
   "source": [
    "from sklearn.linear_model import LogisticRegression"
   ]
  },
  {
   "cell_type": "code",
   "execution_count": 15,
   "id": "98e6d675",
   "metadata": {},
   "outputs": [],
   "source": [
    "clf = LogisticRegression(random_state=42)\n",
    "clf.fit(x_train,y_train)\n",
    "y_pred=clf.predict(x_test)"
   ]
  },
  {
   "cell_type": "code",
   "execution_count": 16,
   "id": "8aedc190",
   "metadata": {},
   "outputs": [
    {
     "name": "stdout",
     "output_type": "stream",
     "text": [
      "              precision    recall  f1-score   support\n",
      "\n",
      "           0       0.51      0.51      0.51     10129\n",
      "           1       0.50      0.50      0.50      9871\n",
      "\n",
      "    accuracy                           0.51     20000\n",
      "   macro avg       0.51      0.51      0.51     20000\n",
      "weighted avg       0.51      0.51      0.51     20000\n",
      "\n"
     ]
    }
   ],
   "source": [
    "print(classification_report(y_test,y_pred,labels=[0,1]))"
   ]
  },
  {
   "cell_type": "code",
   "execution_count": 18,
   "id": "d07b18e2",
   "metadata": {},
   "outputs": [],
   "source": [
    "import pickle\n",
    "pickle.dump(clf,open(\"model.pkl\",\"wb\"))"
   ]
  },
  {
   "cell_type": "code",
   "execution_count": null,
   "id": "6c182127",
   "metadata": {},
   "outputs": [],
   "source": []
  }
 ],
 "metadata": {
  "kernelspec": {
   "display_name": "Python 3 (ipykernel)",
   "language": "python",
   "name": "python3"
  },
  "language_info": {
   "codemirror_mode": {
    "name": "ipython",
    "version": 3
   },
   "file_extension": ".py",
   "mimetype": "text/x-python",
   "name": "python",
   "nbconvert_exporter": "python",
   "pygments_lexer": "ipython3",
   "version": "3.10.9"
  }
 },
 "nbformat": 4,
 "nbformat_minor": 5
}
